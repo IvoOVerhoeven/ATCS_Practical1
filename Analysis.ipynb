{
 "cells": [
  {
   "cell_type": "code",
   "execution_count": 1,
   "metadata": {},
   "outputs": [],
   "source": [
    "import torch\n",
    "import torch.nn as nn\n",
    "import torch.nn.functional as F\n",
    "import pytorch_lightning as pl\n",
    "\n",
    "from IPython.display import display, HTML"
   ]
  },
  {
   "cell_type": "code",
   "execution_count": 28,
   "metadata": {},
   "outputs": [
    {
     "name": "stdout",
     "output_type": "stream",
     "text": [
      "The tensorboard extension is already loaded. To reload it, use:\n",
      "  %reload_ext tensorboard\n"
     ]
    }
   ],
   "source": [
    "%load_ext tensorboard"
   ]
  },
  {
   "cell_type": "markdown",
   "metadata": {},
   "source": [
    "# Training Runs "
   ]
  },
  {
   "cell_type": "code",
   "execution_count": 30,
   "metadata": {},
   "outputs": [
    {
     "data": {
      "text/plain": [
       "Reusing TensorBoard on port 6006 (pid 16000), started 5:12:33 ago. (Use '!kill 16000' to kill it.)"
      ]
     },
     "metadata": {},
     "output_type": "display_data"
    },
    {
     "data": {
      "text/html": [
       "\n",
       "      <iframe id=\"tensorboard-frame-610419e302e91eb3\" width=\"100%\" height=\"800\" frameborder=\"0\">\n",
       "      </iframe>\n",
       "      <script>\n",
       "        (function() {\n",
       "          const frame = document.getElementById(\"tensorboard-frame-610419e302e91eb3\");\n",
       "          const url = new URL(\"/\", window.location);\n",
       "          const port = 6006;\n",
       "          if (port) {\n",
       "            url.port = port;\n",
       "          }\n",
       "          frame.src = url;\n",
       "        })();\n",
       "      </script>\n",
       "    "
      ],
      "text/plain": [
       "<IPython.core.display.HTML object>"
      ]
     },
     "metadata": {},
     "output_type": "display_data"
    }
   ],
   "source": [
    "%tensorboard --logdir checkpoints"
   ]
  },
  {
   "cell_type": "markdown",
   "metadata": {},
   "source": [
    "# Results on SNLI and SentEval Tasks\n",
    "## SNLI"
   ]
  },
  {
   "cell_type": "code",
   "execution_count": 4,
   "metadata": {},
   "outputs": [
    {
     "data": {
      "text/html": [
       "<div>\n",
       "<style scoped>\n",
       "    .dataframe tbody tr th:only-of-type {\n",
       "        vertical-align: middle;\n",
       "    }\n",
       "\n",
       "    .dataframe tbody tr th {\n",
       "        vertical-align: top;\n",
       "    }\n",
       "\n",
       "    .dataframe thead th {\n",
       "        text-align: right;\n",
       "    }\n",
       "</style>\n",
       "<table border=\"1\" class=\"dataframe\">\n",
       "  <thead>\n",
       "    <tr style=\"text-align: right;\">\n",
       "      <th></th>\n",
       "      <th>Train</th>\n",
       "      <th>Valid</th>\n",
       "      <th>Test</th>\n",
       "    </tr>\n",
       "  </thead>\n",
       "  <tbody>\n",
       "    <tr>\n",
       "      <th>Baseline</th>\n",
       "      <td>62.3</td>\n",
       "      <td>60.9</td>\n",
       "      <td>61.1</td>\n",
       "    </tr>\n",
       "    <tr>\n",
       "      <th>Simple</th>\n",
       "      <td>85.9</td>\n",
       "      <td>81.3</td>\n",
       "      <td>80.2</td>\n",
       "    </tr>\n",
       "    <tr>\n",
       "      <th>BiSimple</th>\n",
       "      <td>91.0</td>\n",
       "      <td>81.7</td>\n",
       "      <td>81.1</td>\n",
       "    </tr>\n",
       "    <tr>\n",
       "      <th>BiMaxPool</th>\n",
       "      <td>94.9</td>\n",
       "      <td>84.1</td>\n",
       "      <td>84.3</td>\n",
       "    </tr>\n",
       "    <tr>\n",
       "      <th>BiLSTM-Max (SNLI)*</th>\n",
       "      <td>-</td>\n",
       "      <td>85.0</td>\n",
       "      <td>84.5</td>\n",
       "    </tr>\n",
       "  </tbody>\n",
       "</table>\n",
       "</div>"
      ],
      "text/plain": [
       "                   Train Valid  Test\n",
       "Baseline            62.3  60.9  61.1\n",
       "Simple              85.9  81.3  80.2\n",
       "BiSimple            91.0  81.7  81.1\n",
       "BiMaxPool           94.9  84.1  84.3\n",
       "BiLSTM-Max (SNLI)*     -  85.0  84.5"
      ]
     },
     "execution_count": 4,
     "metadata": {},
     "output_type": "execute_result"
    }
   ],
   "source": [
    "from evaluation.visualization import results_loader\n",
    "\n",
    "results_loader(version=3, evaluation='snli')"
   ]
  },
  {
   "cell_type": "markdown",
   "metadata": {},
   "source": [
    "\\* result from \\[1] for comparison\n",
    "\n",
    "The LSTM models quite clearly outperform the baseline, however, all show a significant generalization gap. Of all the models, the BiLSTM \\w maxpooling works best.\n",
    "\n",
    "The results are comparable to those of Conneau et al. \\[1]"
   ]
  },
  {
   "cell_type": "markdown",
   "metadata": {},
   "source": [
    "## SentEval\n",
    "To change from macro to micro averaging, simply change the agg_method parameter to 'micro'. There is very little difference."
   ]
  },
  {
   "cell_type": "code",
   "execution_count": 5,
   "metadata": {},
   "outputs": [
    {
     "data": {
      "text/html": [
       "<div>\n",
       "<style scoped>\n",
       "    .dataframe tbody tr th:only-of-type {\n",
       "        vertical-align: middle;\n",
       "    }\n",
       "\n",
       "    .dataframe tbody tr th {\n",
       "        vertical-align: top;\n",
       "    }\n",
       "\n",
       "    .dataframe thead th {\n",
       "        text-align: right;\n",
       "    }\n",
       "</style>\n",
       "<table border=\"1\" class=\"dataframe\">\n",
       "  <thead>\n",
       "    <tr style=\"text-align: right;\">\n",
       "      <th></th>\n",
       "      <th>MR</th>\n",
       "      <th>CR</th>\n",
       "      <th>SUBJ</th>\n",
       "      <th>MPQA</th>\n",
       "      <th>SST2</th>\n",
       "      <th>TREC</th>\n",
       "      <th>MRPC</th>\n",
       "      <th>SICK-R</th>\n",
       "      <th>SICK-E</th>\n",
       "      <th>STS14</th>\n",
       "    </tr>\n",
       "    <tr>\n",
       "      <th>Macro Avg.</th>\n",
       "      <th></th>\n",
       "      <th></th>\n",
       "      <th></th>\n",
       "      <th></th>\n",
       "      <th></th>\n",
       "      <th></th>\n",
       "      <th></th>\n",
       "      <th></th>\n",
       "      <th></th>\n",
       "      <th></th>\n",
       "    </tr>\n",
       "  </thead>\n",
       "  <tbody>\n",
       "    <tr>\n",
       "      <th>Baseline</th>\n",
       "      <td>75.0</td>\n",
       "      <td>71.6</td>\n",
       "      <td>88.8</td>\n",
       "      <td>86.7</td>\n",
       "      <td>78.2</td>\n",
       "      <td>64.2</td>\n",
       "      <td>69.8/80.3</td>\n",
       "      <td>0.627</td>\n",
       "      <td>63.5</td>\n",
       "      <td>.51/.53</td>\n",
       "    </tr>\n",
       "    <tr>\n",
       "      <th>Simple</th>\n",
       "      <td>66.2</td>\n",
       "      <td>71.3</td>\n",
       "      <td>75.8</td>\n",
       "      <td>85.8</td>\n",
       "      <td>70.7</td>\n",
       "      <td>54.5</td>\n",
       "      <td>70.5/80.3</td>\n",
       "      <td>0.785</td>\n",
       "      <td>79.9</td>\n",
       "      <td>.39/.42</td>\n",
       "    </tr>\n",
       "    <tr>\n",
       "      <th>BiSimple</th>\n",
       "      <td>67.6</td>\n",
       "      <td>72.3</td>\n",
       "      <td>77.1</td>\n",
       "      <td>86.8</td>\n",
       "      <td>71.1</td>\n",
       "      <td>49.7</td>\n",
       "      <td>70.1/79.9</td>\n",
       "      <td>0.775</td>\n",
       "      <td>79.3</td>\n",
       "      <td>.41/.43</td>\n",
       "    </tr>\n",
       "    <tr>\n",
       "      <th>BiMaxPool</th>\n",
       "      <td>79.7</td>\n",
       "      <td>84.4</td>\n",
       "      <td>92.1</td>\n",
       "      <td>89.7</td>\n",
       "      <td>80.1</td>\n",
       "      <td>84.2</td>\n",
       "      <td>75.5/82.8</td>\n",
       "      <td>0.891</td>\n",
       "      <td>85.7</td>\n",
       "      <td>.70/.67</td>\n",
       "    </tr>\n",
       "    <tr>\n",
       "      <th>BiLSTM-Max (SNLI)*</th>\n",
       "      <td>79.9</td>\n",
       "      <td>84.6</td>\n",
       "      <td>92.1</td>\n",
       "      <td>89.8</td>\n",
       "      <td>83.3</td>\n",
       "      <td>88.7</td>\n",
       "      <td>75.1/82.3</td>\n",
       "      <td>0.885</td>\n",
       "      <td>86.3</td>\n",
       "      <td>.68/.65</td>\n",
       "    </tr>\n",
       "  </tbody>\n",
       "</table>\n",
       "</div>"
      ],
      "text/plain": [
       "                      MR    CR  SUBJ  MPQA  SST2  TREC       MRPC SICK-R  \\\n",
       "Macro Avg.                                                                 \n",
       "Baseline            75.0  71.6  88.8  86.7  78.2  64.2  69.8/80.3  0.627   \n",
       "Simple              66.2  71.3  75.8  85.8  70.7  54.5  70.5/80.3  0.785   \n",
       "BiSimple            67.6  72.3  77.1  86.8  71.1  49.7  70.1/79.9  0.775   \n",
       "BiMaxPool           79.7  84.4  92.1  89.7  80.1  84.2  75.5/82.8  0.891   \n",
       "BiLSTM-Max (SNLI)*  79.9  84.6  92.1  89.8  83.3  88.7  75.1/82.3  0.885   \n",
       "\n",
       "                   SICK-E    STS14  \n",
       "Macro Avg.                          \n",
       "Baseline             63.5  .51/.53  \n",
       "Simple               79.9  .39/.42  \n",
       "BiSimple             79.3  .41/.43  \n",
       "BiMaxPool            85.7  .70/.67  \n",
       "BiLSTM-Max (SNLI)*   86.3  .68/.65  "
      ]
     },
     "execution_count": 5,
     "metadata": {},
     "output_type": "execute_result"
    }
   ],
   "source": [
    "results_loader(version=3, evaluation='infersent', agg_method='macro')"
   ]
  },
  {
   "cell_type": "markdown",
   "metadata": {},
   "source": [
    "\\* result from \\[1] for comparison\n",
    "\n",
    "On the SentEval tasks, however, the models are easily separable; the BiLSTM w\\ maxpooling is the clear winner, scoring well above the baseline. Notably, the LSTM models tend to underperform, especially compared to the baseline. Generally, it also performs well. This goes to show how powerful general word embeddings are for encoding semantics. \n",
    "\n",
    "Again, the results are comparable to those of Conneau et al. \\[1]"
   ]
  },
  {
   "cell_type": "code",
   "execution_count": 6,
   "metadata": {},
   "outputs": [
    {
     "data": {
      "text/html": [
       "<div>\n",
       "<style scoped>\n",
       "    .dataframe tbody tr th:only-of-type {\n",
       "        vertical-align: middle;\n",
       "    }\n",
       "\n",
       "    .dataframe tbody tr th {\n",
       "        vertical-align: top;\n",
       "    }\n",
       "\n",
       "    .dataframe thead tr th {\n",
       "        text-align: left;\n",
       "    }\n",
       "</style>\n",
       "<table border=\"1\" class=\"dataframe\">\n",
       "  <thead>\n",
       "    <tr>\n",
       "      <th></th>\n",
       "      <th colspan=\"2\" halign=\"left\">Surface</th>\n",
       "      <th colspan=\"3\" halign=\"left\">Syntax</th>\n",
       "      <th colspan=\"5\" halign=\"left\">Semantics</th>\n",
       "    </tr>\n",
       "    <tr>\n",
       "      <th></th>\n",
       "      <th>SentLen</th>\n",
       "      <th>WC</th>\n",
       "      <th>TreeDepth</th>\n",
       "      <th>TopConst</th>\n",
       "      <th>BShift</th>\n",
       "      <th>Tense</th>\n",
       "      <th>SubjNum</th>\n",
       "      <th>ObjNum</th>\n",
       "      <th>SOMO</th>\n",
       "      <th>CoordInv</th>\n",
       "    </tr>\n",
       "  </thead>\n",
       "  <tbody>\n",
       "    <tr>\n",
       "      <th>Baseline</th>\n",
       "      <td>79.1</td>\n",
       "      <td>31.4</td>\n",
       "      <td>30.8</td>\n",
       "      <td>45.6</td>\n",
       "      <td>55.7</td>\n",
       "      <td>84.7</td>\n",
       "      <td>78.1</td>\n",
       "      <td>75.6</td>\n",
       "      <td>54.6</td>\n",
       "      <td>55.9</td>\n",
       "    </tr>\n",
       "    <tr>\n",
       "      <th>Simple</th>\n",
       "      <td>49.9</td>\n",
       "      <td>19.0</td>\n",
       "      <td>21.7</td>\n",
       "      <td>24.2</td>\n",
       "      <td>53.2</td>\n",
       "      <td>67.6</td>\n",
       "      <td>59.3</td>\n",
       "      <td>61.1</td>\n",
       "      <td>51.8</td>\n",
       "      <td>57.8</td>\n",
       "    </tr>\n",
       "    <tr>\n",
       "      <th>BiSimple</th>\n",
       "      <td>49.5</td>\n",
       "      <td>25.3</td>\n",
       "      <td>22.3</td>\n",
       "      <td>24.0</td>\n",
       "      <td>55.5</td>\n",
       "      <td>70.3</td>\n",
       "      <td>60.2</td>\n",
       "      <td>61.8</td>\n",
       "      <td>54.9</td>\n",
       "      <td>59.6</td>\n",
       "    </tr>\n",
       "    <tr>\n",
       "      <th>BiMaxPool</th>\n",
       "      <td>67.7</td>\n",
       "      <td>90.1</td>\n",
       "      <td>35.5</td>\n",
       "      <td>75.7</td>\n",
       "      <td>61.9</td>\n",
       "      <td>87.8</td>\n",
       "      <td>83.6</td>\n",
       "      <td>78.9</td>\n",
       "      <td>55.8</td>\n",
       "      <td>65.7</td>\n",
       "    </tr>\n",
       "    <tr>\n",
       "      <th>BiLSTM-Max (NLI)*</th>\n",
       "      <td>71.7</td>\n",
       "      <td>87.3</td>\n",
       "      <td>41.6</td>\n",
       "      <td>70.5</td>\n",
       "      <td>65.1</td>\n",
       "      <td>86.7</td>\n",
       "      <td>80.7</td>\n",
       "      <td>80.3</td>\n",
       "      <td>62.1</td>\n",
       "      <td>66.8</td>\n",
       "    </tr>\n",
       "    <tr>\n",
       "      <th>Human*</th>\n",
       "      <td>100</td>\n",
       "      <td>100</td>\n",
       "      <td>84.0</td>\n",
       "      <td>84.0</td>\n",
       "      <td>98.0</td>\n",
       "      <td>85.0</td>\n",
       "      <td>88.0</td>\n",
       "      <td>86.5</td>\n",
       "      <td>81.2</td>\n",
       "      <td>85.0</td>\n",
       "    </tr>\n",
       "  </tbody>\n",
       "</table>\n",
       "</div>"
      ],
      "text/plain": [
       "                  Surface          Syntax                 Semantics          \\\n",
       "                  SentLen    WC TreeDepth TopConst BShift     Tense SubjNum   \n",
       "Baseline             79.1  31.4      30.8     45.6   55.7      84.7    78.1   \n",
       "Simple               49.9  19.0      21.7     24.2   53.2      67.6    59.3   \n",
       "BiSimple             49.5  25.3      22.3     24.0   55.5      70.3    60.2   \n",
       "BiMaxPool            67.7  90.1      35.5     75.7   61.9      87.8    83.6   \n",
       "BiLSTM-Max (NLI)*    71.7  87.3      41.6     70.5   65.1      86.7    80.7   \n",
       "Human*               100   100       84.0     84.0   98.0      85.0    88.0   \n",
       "\n",
       "                                         \n",
       "                  ObjNum  SOMO CoordInv  \n",
       "Baseline            75.6  54.6     55.9  \n",
       "Simple              61.1  51.8     57.8  \n",
       "BiSimple            61.8  54.9     59.6  \n",
       "BiMaxPool           78.9  55.8     65.7  \n",
       "BiLSTM-Max (NLI)*   80.3  62.1     66.8  \n",
       "Human*              86.5  81.2     85.0  "
      ]
     },
     "execution_count": 6,
     "metadata": {},
     "output_type": "execute_result"
    }
   ],
   "source": [
    "results_loader('3', evaluation='probing_all')"
   ]
  },
  {
   "cell_type": "markdown",
   "metadata": {},
   "source": [
    "\\* result from \\[2] for comparison\n",
    "\n",
    "Lastly, for some additional comparisons, I performed further evaluation on the SentEval probing tasks. Here the results are a little more dissapointing. Again, the LSTMs suffer on all tasks compared to baseline. The BiLSTM w\\ maxpooling does perform better than baseline, but as the tasks go up the linguistic hierarchy, they start to suffer and approach the baseline scores again. A standout task for the BiLSTM w\\ maxpooling is Word-Content classification, where it blows out the competition.\n",
    "\n",
    "While the best comparison comes from a different paper trained on a different dataset (SNLI + MNLI), my implementation remain comparable to Conneau et al. \\[2]"
   ]
  },
  {
   "cell_type": "markdown",
   "metadata": {},
   "source": [
    "# Model Interaction\n",
    "Loads the dataset, finds the vocab and generates the dataloaders.\n",
    "For some reason this always takes a while."
   ]
  },
  {
   "cell_type": "code",
   "execution_count": 7,
   "metadata": {},
   "outputs": [
    {
     "name": "stdout",
     "output_type": "stream",
     "text": [
      "Using dictionary with GloVe found at ./data/glove\\snli_vocab.pt\n",
      "Data loaded successfully.'\n"
     ]
    }
   ],
   "source": [
    "import torch\n",
    "\n",
    "from data.snli import SNLI\n",
    "\n",
    "snli = SNLI()\n",
    "snli.prep_data()\n",
    "vocab = snli.vocab()\n",
    "\n",
    "train_loader, valid_loader, test_loader = snli.snli_dataloaders(8, torch.device('cpu'))\n",
    "\n",
    "print(\"Data loaded successfully.'\")"
   ]
  },
  {
   "cell_type": "markdown",
   "metadata": {},
   "source": [
    "Load in the separate models\n",
    "## Baseline"
   ]
  },
  {
   "cell_type": "code",
   "execution_count": 8,
   "metadata": {},
   "outputs": [
    {
     "name": "stdout",
     "output_type": "stream",
     "text": [
      "Found pretrained model at ./checkpoints\\InferSent-Baseline_v3\\lightning_logs\\version_7560180\\checkpoints\\epoch=2-step=25751.ckpt\n",
      "InferSent(\n",
      "  (embedding): Vocab_Embedding(\n",
      "    (Embedding): Embedding(34155, 300)\n",
      "  )\n",
      "  (encoder): Baseline_Encoder()\n",
      "  (classifier): InferSent_clf(\n",
      "    (clf): Sequential(\n",
      "      (0): Linear(in_features=1200, out_features=512, bias=True)\n",
      "      (1): Tanh()\n",
      "      (2): Linear(in_features=512, out_features=512, bias=True)\n",
      "      (3): Tanh()\n",
      "      (4): Linear(in_features=512, out_features=3, bias=True)\n",
      "    )\n",
      "  )\n",
      "  (loss_module): CrossEntropyLoss()\n",
      ")\n"
     ]
    }
   ],
   "source": [
    "from models.InferSent import InferSent\n",
    "from utils.reproducibility import load_latest\n",
    "\n",
    "baseline = load_latest(pl_module=InferSent, save_name='InferSent-Baseline_v3', \n",
    "                       inference=True)\n",
    "print(baseline)"
   ]
  },
  {
   "cell_type": "markdown",
   "metadata": {},
   "source": [
    "## BiLSTM w/ Maxpool"
   ]
  },
  {
   "cell_type": "code",
   "execution_count": 9,
   "metadata": {},
   "outputs": [
    {
     "name": "stdout",
     "output_type": "stream",
     "text": [
      "Found pretrained model at ./checkpoints\\InferSent-BiMaxPool_v3\\lightning_logs\\version_7560215\\checkpoints\\epoch=8-step=77255.ckpt\n",
      "InferSent(\n",
      "  (embedding): Vocab_Embedding(\n",
      "    (Embedding): Embedding(34155, 300)\n",
      "  )\n",
      "  (encoder): MaxPoolLSTM_Encoder(\n",
      "    (lstm): LSTM(300, 4096, bidirectional=True)\n",
      "  )\n",
      "  (classifier): InferSent_clf(\n",
      "    (clf): Sequential(\n",
      "      (0): Linear(in_features=32768, out_features=512, bias=True)\n",
      "      (1): Tanh()\n",
      "      (2): Linear(in_features=512, out_features=512, bias=True)\n",
      "      (3): Tanh()\n",
      "      (4): Linear(in_features=512, out_features=3, bias=True)\n",
      "    )\n",
      "  )\n",
      "  (loss_module): CrossEntropyLoss()\n",
      ")\n"
     ]
    }
   ],
   "source": [
    "from models.InferSent import InferSent\n",
    "from utils.reproducibility import load_latest\n",
    "\n",
    "maxpool = load_latest(pl_module=InferSent, save_name='InferSent-BiMaxPool_v3', \n",
    "                       inference=True)\n",
    "print(maxpool)"
   ]
  },
  {
   "cell_type": "markdown",
   "metadata": {},
   "source": [
    "## Interaction\n",
    "### Some random examples\n",
    "Here a batch is sampled for the training set (has nicer premises) for quick comparison."
   ]
  },
  {
   "cell_type": "code",
   "execution_count": 10,
   "metadata": {},
   "outputs": [],
   "source": [
    "batch = next(iter(train_loader))"
   ]
  },
  {
   "cell_type": "code",
   "execution_count": 11,
   "metadata": {},
   "outputs": [
    {
     "data": {
      "text/html": [
       "<style  type=\"text/css\" >\n",
       "#T_40c02_row0_col3{\n",
       "            background-color:  #d8e7f5;\n",
       "        }#T_40c02_row0_col4,#T_40c02_row4_col5{\n",
       "            background-color:  #bcd7eb;\n",
       "        }#T_40c02_row0_col5{\n",
       "            background-color:  #b3d3e8;\n",
       "        }#T_40c02_row1_col3{\n",
       "            background-color:  #bed8ec;\n",
       "        }#T_40c02_row1_col4{\n",
       "            background-color:  #a1cbe2;\n",
       "        }#T_40c02_row1_col5{\n",
       "            background-color:  #e2edf8;\n",
       "        }#T_40c02_row2_col3,#T_40c02_row5_col3{\n",
       "            background-color:  #f6faff;\n",
       "        }#T_40c02_row2_col4{\n",
       "            background-color:  #e7f1fa;\n",
       "        }#T_40c02_row2_col5,#T_40c02_row7_col4{\n",
       "            background-color:  #3888c1;\n",
       "        }#T_40c02_row3_col3{\n",
       "            background-color:  #cadef0;\n",
       "        }#T_40c02_row3_col4{\n",
       "            background-color:  #9cc9e1;\n",
       "        }#T_40c02_row3_col5{\n",
       "            background-color:  #dce9f6;\n",
       "        }#T_40c02_row4_col3{\n",
       "            background-color:  #c6dbef;\n",
       "        }#T_40c02_row4_col4{\n",
       "            background-color:  #cddff1;\n",
       "        }#T_40c02_row5_col4{\n",
       "            background-color:  #2474b7;\n",
       "        }#T_40c02_row5_col5{\n",
       "            background-color:  #f5fafe;\n",
       "        }#T_40c02_row6_col3{\n",
       "            background-color:  #bfd8ed;\n",
       "        }#T_40c02_row6_col4{\n",
       "            background-color:  #ddeaf7;\n",
       "        }#T_40c02_row6_col5{\n",
       "            background-color:  #a6cee4;\n",
       "        }#T_40c02_row7_col3{\n",
       "            background-color:  #f3f8fe;\n",
       "        }#T_40c02_row7_col5{\n",
       "            background-color:  #eaf3fb;\n",
       "        }</style><table id=\"T_40c02_\" ><thead>    <tr>        <th class=\"blank level0\" ></th>        <th class=\"col_heading level0 col0\" >Premise</th>        <th class=\"col_heading level0 col1\" >Hypothesis</th>        <th class=\"col_heading level0 col2\" >Label</th>        <th class=\"col_heading level0 col3\" >p(f(x)=0)</th>        <th class=\"col_heading level0 col4\" >p(f(x)=1)</th>        <th class=\"col_heading level0 col5\" >p(f(x)=2)</th>        <th class=\"col_heading level0 col6\" >Loss</th>    </tr></thead><tbody>\n",
       "                <tr>\n",
       "                        <th id=\"T_40c02_level0_row0\" class=\"row_heading level0 row0\" >0</th>\n",
       "                        <td id=\"T_40c02_row0_col0\" class=\"data row0 col0\" >there is one person on a racing motorcycle and one person on the ground .</td>\n",
       "                        <td id=\"T_40c02_row0_col1\" class=\"data row0 col1\" >there was an accident</td>\n",
       "                        <td id=\"T_40c02_row0_col2\" class=\"data row0 col2\" >2</td>\n",
       "                        <td id=\"T_40c02_row0_col3\" class=\"data row0 col3\" >0.210734</td>\n",
       "                        <td id=\"T_40c02_row0_col4\" class=\"data row0 col4\" >0.377024</td>\n",
       "                        <td id=\"T_40c02_row0_col5\" class=\"data row0 col5\" >0.412241</td>\n",
       "                        <td id=\"T_40c02_row0_col6\" class=\"data row0 col6\" >0.886146</td>\n",
       "            </tr>\n",
       "            <tr>\n",
       "                        <th id=\"T_40c02_level0_row1\" class=\"row_heading level0 row1\" >1</th>\n",
       "                        <td id=\"T_40c02_row1_col0\" class=\"data row1 col0\" >a tennis player delivering his serve .</td>\n",
       "                        <td id=\"T_40c02_row1_col1\" class=\"data row1 col1\" >a tennis player is standing still .</td>\n",
       "                        <td id=\"T_40c02_row1_col2\" class=\"data row1 col2\" >1</td>\n",
       "                        <td id=\"T_40c02_row1_col3\" class=\"data row1 col3\" >0.366713</td>\n",
       "                        <td id=\"T_40c02_row1_col4\" class=\"data row1 col4\" >0.489203</td>\n",
       "                        <td id=\"T_40c02_row1_col5\" class=\"data row1 col5\" >0.144084</td>\n",
       "                        <td id=\"T_40c02_row1_col6\" class=\"data row1 col6\" >0.714978</td>\n",
       "            </tr>\n",
       "            <tr>\n",
       "                        <th id=\"T_40c02_level0_row2\" class=\"row_heading level0 row2\" >2</th>\n",
       "                        <td id=\"T_40c02_row2_col0\" class=\"data row2 col0\" >a child wearing bluish baggy shorts and shirt with a striped baseball hat , taking a picture with a camera placed on tripod stand in a grassy mountainous region .</td>\n",
       "                        <td id=\"T_40c02_row2_col1\" class=\"data row2 col1\" >a child is taking a break from baseball practice to take pictures of his friends .</td>\n",
       "                        <td id=\"T_40c02_row2_col2\" class=\"data row2 col2\" >2</td>\n",
       "                        <td id=\"T_40c02_row2_col3\" class=\"data row2 col3\" >0.009539</td>\n",
       "                        <td id=\"T_40c02_row2_col4\" class=\"data row2 col4\" >0.105782</td>\n",
       "                        <td id=\"T_40c02_row2_col5\" class=\"data row2 col5\" >0.884678</td>\n",
       "                        <td id=\"T_40c02_row2_col6\" class=\"data row2 col6\" >0.122531</td>\n",
       "            </tr>\n",
       "            <tr>\n",
       "                        <th id=\"T_40c02_level0_row3\" class=\"row_heading level0 row3\" >3</th>\n",
       "                        <td id=\"T_40c02_row3_col0\" class=\"data row3 col0\" >outside the window you can see an area of dirt that appears muddy from the rain .</td>\n",
       "                        <td id=\"T_40c02_row3_col1\" class=\"data row3 col1\" >the dirt is dry</td>\n",
       "                        <td id=\"T_40c02_row3_col2\" class=\"data row3 col2\" >1</td>\n",
       "                        <td id=\"T_40c02_row3_col3\" class=\"data row3 col3\" >0.304517</td>\n",
       "                        <td id=\"T_40c02_row3_col4\" class=\"data row3 col4\" >0.508055</td>\n",
       "                        <td id=\"T_40c02_row3_col5\" class=\"data row3 col5\" >0.187427</td>\n",
       "                        <td id=\"T_40c02_row3_col6\" class=\"data row3 col6\" >0.677165</td>\n",
       "            </tr>\n",
       "            <tr>\n",
       "                        <th id=\"T_40c02_level0_row4\" class=\"row_heading level0 row4\" >4</th>\n",
       "                        <td id=\"T_40c02_row4_col0\" class=\"data row4 col0\" >three older women stop to look at an exhibit in a museum .</td>\n",
       "                        <td id=\"T_40c02_row4_col1\" class=\"data row4 col1\" >a group of women in a museum .</td>\n",
       "                        <td id=\"T_40c02_row4_col2\" class=\"data row4 col2\" >0</td>\n",
       "                        <td id=\"T_40c02_row4_col3\" class=\"data row4 col3\" >0.334608</td>\n",
       "                        <td id=\"T_40c02_row4_col4\" class=\"data row4 col4\" >0.287151</td>\n",
       "                        <td id=\"T_40c02_row4_col5\" class=\"data row4 col5\" >0.378241</td>\n",
       "                        <td id=\"T_40c02_row4_col6\" class=\"data row4 col6\" >1.094795</td>\n",
       "            </tr>\n",
       "            <tr>\n",
       "                        <th id=\"T_40c02_level0_row5\" class=\"row_heading level0 row5\" >5</th>\n",
       "                        <td id=\"T_40c02_row5_col0\" class=\"data row5 col0\" >a boy is pushing a bike across the sand on a beach with the sun bursting through the clouds behind him .</td>\n",
       "                        <td id=\"T_40c02_row5_col1\" class=\"data row5 col1\" >a boy is sleeping in his bed .</td>\n",
       "                        <td id=\"T_40c02_row5_col2\" class=\"data row5 col2\" >1</td>\n",
       "                        <td id=\"T_40c02_row5_col3\" class=\"data row5 col3\" >0.006766</td>\n",
       "                        <td id=\"T_40c02_row5_col4\" class=\"data row5 col4\" >0.979824</td>\n",
       "                        <td id=\"T_40c02_row5_col5\" class=\"data row5 col5\" >0.013410</td>\n",
       "                        <td id=\"T_40c02_row5_col6\" class=\"data row5 col6\" >0.020383</td>\n",
       "            </tr>\n",
       "            <tr>\n",
       "                        <th id=\"T_40c02_level0_row6\" class=\"row_heading level0 row6\" >6</th>\n",
       "                        <td id=\"T_40c02_row6_col0\" class=\"data row6 col0\" >a woman is on her hands and knees on a dirt field , while a man in a costume is kicking one of his legs toward her face .</td>\n",
       "                        <td id=\"T_40c02_row6_col1\" class=\"data row6 col1\" >the man in fancy dress swings his leg towards the woman 's face</td>\n",
       "                        <td id=\"T_40c02_row6_col2\" class=\"data row6 col2\" >0</td>\n",
       "                        <td id=\"T_40c02_row6_col3\" class=\"data row6 col3\" >0.362698</td>\n",
       "                        <td id=\"T_40c02_row6_col4\" class=\"data row6 col4\" >0.172579</td>\n",
       "                        <td id=\"T_40c02_row6_col5\" class=\"data row6 col5\" >0.464723</td>\n",
       "                        <td id=\"T_40c02_row6_col6\" class=\"data row6 col6\" >1.014185</td>\n",
       "            </tr>\n",
       "            <tr>\n",
       "                        <th id=\"T_40c02_level0_row7\" class=\"row_heading level0 row7\" >7</th>\n",
       "                        <td id=\"T_40c02_row7_col0\" class=\"data row7 col0\" >two ladies are preparing food in a kitchen .</td>\n",
       "                        <td id=\"T_40c02_row7_col1\" class=\"data row7 col1\" >two women clean the bathrooms of the apartment .</td>\n",
       "                        <td id=\"T_40c02_row7_col2\" class=\"data row7 col2\" >1</td>\n",
       "                        <td id=\"T_40c02_row7_col3\" class=\"data row7 col3\" >0.030705</td>\n",
       "                        <td id=\"T_40c02_row7_col4\" class=\"data row7 col4\" >0.882279</td>\n",
       "                        <td id=\"T_40c02_row7_col5\" class=\"data row7 col5\" >0.087016</td>\n",
       "                        <td id=\"T_40c02_row7_col6\" class=\"data row7 col6\" >0.125247</td>\n",
       "            </tr>\n",
       "    </tbody></table>"
      ],
      "text/plain": [
       "<pandas.io.formats.style.Styler at 0x1b15ac200d0>"
      ]
     },
     "execution_count": 11,
     "metadata": {},
     "output_type": "execute_result"
    }
   ],
   "source": [
    "from evaluation.visualization import input_output_table\n",
    "\n",
    "input_output_table(batch.premise, batch.hypothesis, batch.label, baseline, vocab)"
   ]
  },
  {
   "cell_type": "code",
   "execution_count": 12,
   "metadata": {},
   "outputs": [
    {
     "data": {
      "text/html": [
       "<style  type=\"text/css\" >\n",
       "#T_b78e7_row0_col3{\n",
       "            background-color:  #d7e6f5;\n",
       "        }#T_b78e7_row0_col4{\n",
       "            background-color:  #e4eff9;\n",
       "        }#T_b78e7_row0_col5{\n",
       "            background-color:  #6fb0d7;\n",
       "        }#T_b78e7_row1_col3,#T_b78e7_row1_col5{\n",
       "            background-color:  #f6faff;\n",
       "        }#T_b78e7_row1_col4{\n",
       "            background-color:  #2373b6;\n",
       "        }#T_b78e7_row2_col3,#T_b78e7_row2_col4,#T_b78e7_row4_col4,#T_b78e7_row4_col5,#T_b78e7_row5_col3,#T_b78e7_row5_col5,#T_b78e7_row7_col3,#T_b78e7_row7_col5{\n",
       "            background-color:  #f7fbff;\n",
       "        }#T_b78e7_row2_col5,#T_b78e7_row4_col3,#T_b78e7_row7_col4{\n",
       "            background-color:  #2171b5;\n",
       "        }#T_b78e7_row3_col3{\n",
       "            background-color:  #f2f8fd;\n",
       "        }#T_b78e7_row3_col4{\n",
       "            background-color:  #3686c0;\n",
       "        }#T_b78e7_row3_col5{\n",
       "            background-color:  #edf4fc;\n",
       "        }#T_b78e7_row5_col4{\n",
       "            background-color:  #2070b4;\n",
       "        }#T_b78e7_row6_col3{\n",
       "            background-color:  #e2edf8;\n",
       "        }#T_b78e7_row6_col4{\n",
       "            background-color:  #f2f7fd;\n",
       "        }#T_b78e7_row6_col5{\n",
       "            background-color:  #4594c7;\n",
       "        }</style><table id=\"T_b78e7_\" ><thead>    <tr>        <th class=\"blank level0\" ></th>        <th class=\"col_heading level0 col0\" >Premise</th>        <th class=\"col_heading level0 col1\" >Hypothesis</th>        <th class=\"col_heading level0 col2\" >Label</th>        <th class=\"col_heading level0 col3\" >p(f(x)=0)</th>        <th class=\"col_heading level0 col4\" >p(f(x)=1)</th>        <th class=\"col_heading level0 col5\" >p(f(x)=2)</th>        <th class=\"col_heading level0 col6\" >Loss</th>    </tr></thead><tbody>\n",
       "                <tr>\n",
       "                        <th id=\"T_b78e7_level0_row0\" class=\"row_heading level0 row0\" >0</th>\n",
       "                        <td id=\"T_b78e7_row0_col0\" class=\"data row0 col0\" >there is one person on a racing motorcycle and one person on the ground .</td>\n",
       "                        <td id=\"T_b78e7_row0_col1\" class=\"data row0 col1\" >there was an accident</td>\n",
       "                        <td id=\"T_b78e7_row0_col2\" class=\"data row0 col2\" >2</td>\n",
       "                        <td id=\"T_b78e7_row0_col3\" class=\"data row0 col3\" >0.215286</td>\n",
       "                        <td id=\"T_b78e7_row0_col4\" class=\"data row0 col4\" >0.129627</td>\n",
       "                        <td id=\"T_b78e7_row0_col5\" class=\"data row0 col5\" >0.655087</td>\n",
       "                        <td id=\"T_b78e7_row0_col6\" class=\"data row0 col6\" >0.422988</td>\n",
       "            </tr>\n",
       "            <tr>\n",
       "                        <th id=\"T_b78e7_level0_row1\" class=\"row_heading level0 row1\" >1</th>\n",
       "                        <td id=\"T_b78e7_row1_col0\" class=\"data row1 col0\" >a tennis player delivering his serve .</td>\n",
       "                        <td id=\"T_b78e7_row1_col1\" class=\"data row1 col1\" >a tennis player is standing still .</td>\n",
       "                        <td id=\"T_b78e7_row1_col2\" class=\"data row1 col2\" >1</td>\n",
       "                        <td id=\"T_b78e7_row1_col3\" class=\"data row1 col3\" >0.009002</td>\n",
       "                        <td id=\"T_b78e7_row1_col4\" class=\"data row1 col4\" >0.984456</td>\n",
       "                        <td id=\"T_b78e7_row1_col5\" class=\"data row1 col5\" >0.006542</td>\n",
       "                        <td id=\"T_b78e7_row1_col6\" class=\"data row1 col6\" >0.015666</td>\n",
       "            </tr>\n",
       "            <tr>\n",
       "                        <th id=\"T_b78e7_level0_row2\" class=\"row_heading level0 row2\" >2</th>\n",
       "                        <td id=\"T_b78e7_row2_col0\" class=\"data row2 col0\" >a child wearing bluish baggy shorts and shirt with a striped baseball hat , taking a picture with a camera placed on tripod stand in a grassy mountainous region .</td>\n",
       "                        <td id=\"T_b78e7_row2_col1\" class=\"data row2 col1\" >a child is taking a break from baseball practice to take pictures of his friends .</td>\n",
       "                        <td id=\"T_b78e7_row2_col2\" class=\"data row2 col2\" >2</td>\n",
       "                        <td id=\"T_b78e7_row2_col3\" class=\"data row2 col3\" >0.000864</td>\n",
       "                        <td id=\"T_b78e7_row2_col4\" class=\"data row2 col4\" >0.000004</td>\n",
       "                        <td id=\"T_b78e7_row2_col5\" class=\"data row2 col5\" >0.999132</td>\n",
       "                        <td id=\"T_b78e7_row2_col6\" class=\"data row2 col6\" >0.000868</td>\n",
       "            </tr>\n",
       "            <tr>\n",
       "                        <th id=\"T_b78e7_level0_row3\" class=\"row_heading level0 row3\" >3</th>\n",
       "                        <td id=\"T_b78e7_row3_col0\" class=\"data row3 col0\" >outside the window you can see an area of dirt that appears muddy from the rain .</td>\n",
       "                        <td id=\"T_b78e7_row3_col1\" class=\"data row3 col1\" >the dirt is dry</td>\n",
       "                        <td id=\"T_b78e7_row3_col2\" class=\"data row3 col2\" >1</td>\n",
       "                        <td id=\"T_b78e7_row3_col3\" class=\"data row3 col3\" >0.033214</td>\n",
       "                        <td id=\"T_b78e7_row3_col4\" class=\"data row3 col4\" >0.894141</td>\n",
       "                        <td id=\"T_b78e7_row3_col5\" class=\"data row3 col5\" >0.072644</td>\n",
       "                        <td id=\"T_b78e7_row3_col6\" class=\"data row3 col6\" >0.111891</td>\n",
       "            </tr>\n",
       "            <tr>\n",
       "                        <th id=\"T_b78e7_level0_row4\" class=\"row_heading level0 row4\" >4</th>\n",
       "                        <td id=\"T_b78e7_row4_col0\" class=\"data row4 col0\" >three older women stop to look at an exhibit in a museum .</td>\n",
       "                        <td id=\"T_b78e7_row4_col1\" class=\"data row4 col1\" >a group of women in a museum .</td>\n",
       "                        <td id=\"T_b78e7_row4_col2\" class=\"data row4 col2\" >0</td>\n",
       "                        <td id=\"T_b78e7_row4_col3\" class=\"data row4 col3\" >0.994956</td>\n",
       "                        <td id=\"T_b78e7_row4_col4\" class=\"data row4 col4\" >0.000683</td>\n",
       "                        <td id=\"T_b78e7_row4_col5\" class=\"data row4 col5\" >0.004361</td>\n",
       "                        <td id=\"T_b78e7_row4_col6\" class=\"data row4 col6\" >0.005057</td>\n",
       "            </tr>\n",
       "            <tr>\n",
       "                        <th id=\"T_b78e7_level0_row5\" class=\"row_heading level0 row5\" >5</th>\n",
       "                        <td id=\"T_b78e7_row5_col0\" class=\"data row5 col0\" >a boy is pushing a bike across the sand on a beach with the sun bursting through the clouds behind him .</td>\n",
       "                        <td id=\"T_b78e7_row5_col1\" class=\"data row5 col1\" >a boy is sleeping in his bed .</td>\n",
       "                        <td id=\"T_b78e7_row5_col2\" class=\"data row5 col2\" >1</td>\n",
       "                        <td id=\"T_b78e7_row5_col3\" class=\"data row5 col3\" >0.000000</td>\n",
       "                        <td id=\"T_b78e7_row5_col4\" class=\"data row5 col4\" >1.000000</td>\n",
       "                        <td id=\"T_b78e7_row5_col5\" class=\"data row5 col5\" >0.000000</td>\n",
       "                        <td id=\"T_b78e7_row5_col6\" class=\"data row5 col6\" >-0.000000</td>\n",
       "            </tr>\n",
       "            <tr>\n",
       "                        <th id=\"T_b78e7_level0_row6\" class=\"row_heading level0 row6\" >6</th>\n",
       "                        <td id=\"T_b78e7_row6_col0\" class=\"data row6 col0\" >a woman is on her hands and knees on a dirt field , while a man in a costume is kicking one of his legs toward her face .</td>\n",
       "                        <td id=\"T_b78e7_row6_col1\" class=\"data row6 col1\" >the man in fancy dress swings his leg towards the woman 's face</td>\n",
       "                        <td id=\"T_b78e7_row6_col2\" class=\"data row6 col2\" >0</td>\n",
       "                        <td id=\"T_b78e7_row6_col3\" class=\"data row6 col3\" >0.142615</td>\n",
       "                        <td id=\"T_b78e7_row6_col4\" class=\"data row6 col4\" >0.038365</td>\n",
       "                        <td id=\"T_b78e7_row6_col5\" class=\"data row6 col5\" >0.819020</td>\n",
       "                        <td id=\"T_b78e7_row6_col6\" class=\"data row6 col6\" >1.947607</td>\n",
       "            </tr>\n",
       "            <tr>\n",
       "                        <th id=\"T_b78e7_level0_row7\" class=\"row_heading level0 row7\" >7</th>\n",
       "                        <td id=\"T_b78e7_row7_col0\" class=\"data row7 col0\" >two ladies are preparing food in a kitchen .</td>\n",
       "                        <td id=\"T_b78e7_row7_col1\" class=\"data row7 col1\" >two women clean the bathrooms of the apartment .</td>\n",
       "                        <td id=\"T_b78e7_row7_col2\" class=\"data row7 col2\" >1</td>\n",
       "                        <td id=\"T_b78e7_row7_col3\" class=\"data row7 col3\" >0.000003</td>\n",
       "                        <td id=\"T_b78e7_row7_col4\" class=\"data row7 col4\" >0.999738</td>\n",
       "                        <td id=\"T_b78e7_row7_col5\" class=\"data row7 col5\" >0.000258</td>\n",
       "                        <td id=\"T_b78e7_row7_col6\" class=\"data row7 col6\" >0.000262</td>\n",
       "            </tr>\n",
       "    </tbody></table>"
      ],
      "text/plain": [
       "<pandas.io.formats.style.Styler at 0x1b15eef1820>"
      ]
     },
     "execution_count": 12,
     "metadata": {},
     "output_type": "execute_result"
    }
   ],
   "source": [
    "input_output_table(batch.premise, batch.hypothesis, batch.label, maxpool, vocab)"
   ]
  },
  {
   "cell_type": "markdown",
   "metadata": {},
   "source": [
    "The BiLSTM \\w maxpolling is quite obviously more certain about its predictions. This was entirely expected, however, given an actual model makes informed selection regarding which semantic properties to retain."
   ]
  },
  {
   "cell_type": "markdown",
   "metadata": {},
   "source": [
    "### Personalised examples\n",
    "For the oral, input text below. Label is needed for IO-tables."
   ]
  },
  {
   "cell_type": "code",
   "execution_count": 13,
   "metadata": {},
   "outputs": [],
   "source": [
    "from utils.text_processing import input_to_text, text_to_input\n",
    "\n",
    "premise = 'I am at my desk finishing my assignment.'\n",
    "hypothesis = 'A man is sitting at his desk.'\n",
    "label = 0"
   ]
  },
  {
   "cell_type": "code",
   "execution_count": 14,
   "metadata": {},
   "outputs": [
    {
     "data": {
      "text/html": [
       "<style  type=\"text/css\" >\n",
       "#T_b0cb8_row0_col3,#T_b0cb8_row0_col5{\n",
       "            background-color:  #f6faff;\n",
       "        }#T_b0cb8_row0_col4{\n",
       "            background-color:  #2474b7;\n",
       "        }</style><table id=\"T_b0cb8_\" ><thead>    <tr>        <th class=\"blank level0\" ></th>        <th class=\"col_heading level0 col0\" >Premise</th>        <th class=\"col_heading level0 col1\" >Hypothesis</th>        <th class=\"col_heading level0 col2\" >Label</th>        <th class=\"col_heading level0 col3\" >p(f(x)=0)</th>        <th class=\"col_heading level0 col4\" >p(f(x)=1)</th>        <th class=\"col_heading level0 col5\" >p(f(x)=2)</th>        <th class=\"col_heading level0 col6\" >Loss</th>    </tr></thead><tbody>\n",
       "                <tr>\n",
       "                        <th id=\"T_b0cb8_level0_row0\" class=\"row_heading level0 row0\" >0</th>\n",
       "                        <td id=\"T_b0cb8_row0_col0\" class=\"data row0 col0\" >i am at my desk finishing my assignment .</td>\n",
       "                        <td id=\"T_b0cb8_row0_col1\" class=\"data row0 col1\" >a man is sitting at his desk .</td>\n",
       "                        <td id=\"T_b0cb8_row0_col2\" class=\"data row0 col2\" >0</td>\n",
       "                        <td id=\"T_b0cb8_row0_col3\" class=\"data row0 col3\" >0.005925</td>\n",
       "                        <td id=\"T_b0cb8_row0_col4\" class=\"data row0 col4\" >0.983725</td>\n",
       "                        <td id=\"T_b0cb8_row0_col5\" class=\"data row0 col5\" >0.010350</td>\n",
       "                        <td id=\"T_b0cb8_row0_col6\" class=\"data row0 col6\" >5.128567</td>\n",
       "            </tr>\n",
       "    </tbody></table>"
      ],
      "text/plain": [
       "<pandas.io.formats.style.Styler at 0x1b1602d21f0>"
      ]
     },
     "execution_count": 14,
     "metadata": {},
     "output_type": "execute_result"
    }
   ],
   "source": [
    "input_output_table(text_to_input(premise, vocab), text_to_input(hypothesis, vocab), [label], baseline, vocab)"
   ]
  },
  {
   "cell_type": "code",
   "execution_count": 15,
   "metadata": {},
   "outputs": [
    {
     "data": {
      "text/html": [
       "<style  type=\"text/css\" >\n",
       "#T_8135d_row0_col3{\n",
       "            background-color:  #2e7ebc;\n",
       "        }#T_8135d_row0_col4{\n",
       "            background-color:  #f7fbff;\n",
       "        }#T_8135d_row0_col5{\n",
       "            background-color:  #eef5fc;\n",
       "        }</style><table id=\"T_8135d_\" ><thead>    <tr>        <th class=\"blank level0\" ></th>        <th class=\"col_heading level0 col0\" >Premise</th>        <th class=\"col_heading level0 col1\" >Hypothesis</th>        <th class=\"col_heading level0 col2\" >Label</th>        <th class=\"col_heading level0 col3\" >p(f(x)=0)</th>        <th class=\"col_heading level0 col4\" >p(f(x)=1)</th>        <th class=\"col_heading level0 col5\" >p(f(x)=2)</th>        <th class=\"col_heading level0 col6\" >Loss</th>    </tr></thead><tbody>\n",
       "                <tr>\n",
       "                        <th id=\"T_8135d_level0_row0\" class=\"row_heading level0 row0\" >0</th>\n",
       "                        <td id=\"T_8135d_row0_col0\" class=\"data row0 col0\" >i am at my desk finishing my assignment .</td>\n",
       "                        <td id=\"T_8135d_row0_col1\" class=\"data row0 col1\" >a man is sitting at his desk .</td>\n",
       "                        <td id=\"T_8135d_row0_col2\" class=\"data row0 col2\" >0</td>\n",
       "                        <td id=\"T_8135d_row0_col3\" class=\"data row0 col3\" >0.933639</td>\n",
       "                        <td id=\"T_8135d_row0_col4\" class=\"data row0 col4\" >0.004785</td>\n",
       "                        <td id=\"T_8135d_row0_col5\" class=\"data row0 col5\" >0.061576</td>\n",
       "                        <td id=\"T_8135d_row0_col6\" class=\"data row0 col6\" >0.068666</td>\n",
       "            </tr>\n",
       "    </tbody></table>"
      ],
      "text/plain": [
       "<pandas.io.formats.style.Styler at 0x1b1602d2220>"
      ]
     },
     "execution_count": 15,
     "metadata": {},
     "output_type": "execute_result"
    }
   ],
   "source": [
    "input_output_table(text_to_input(premise, vocab), text_to_input(hypothesis, vocab), [label], maxpool, vocab)"
   ]
  },
  {
   "cell_type": "markdown",
   "metadata": {},
   "source": [
    "## Max-pool Propensity Weights\n",
    "The selection mechanism of the maxpooling operation can be tested like this, plus it makes for nice visualization of what's important to the model. \n",
    "\n",
    "Slight alteration from the paper, mine are normalized over the sentence length, so comparison between different sentences is possible (see below)."
   ]
  },
  {
   "cell_type": "code",
   "execution_count": 16,
   "metadata": {},
   "outputs": [
    {
     "data": {
      "text/plain": [
       "[0.5908203125,\n",
       " 0.9573974609375,\n",
       " 0.6861572265625,\n",
       " 1.2125244140625,\n",
       " 1.19775390625,\n",
       " 1.651611328125,\n",
       " 1.40185546875,\n",
       " 1.162841796875,\n",
       " 1.050048828125,\n",
       " 0.451171875,\n",
       " 0.6378173828125]"
      ]
     },
     "execution_count": 16,
     "metadata": {},
     "output_type": "execute_result"
    }
   ],
   "source": [
    "from utils.text_processing import text_tokenizer\n",
    "from evaluation.importance_weights import max_pool_propensity\n",
    "\n",
    "max_pool_propensity(text_to_input(premise, vocab), maxpool)[0]"
   ]
  },
  {
   "cell_type": "markdown",
   "metadata": {},
   "source": [
    "This includes the special tokens. I drop this for future visualization."
   ]
  },
  {
   "cell_type": "code",
   "execution_count": 17,
   "metadata": {},
   "outputs": [
    {
     "data": {
      "image/png": "[encoded data removed]",
      "text/plain": [
       "<Figure size 720x720 with 1 Axes>"
      ]
     },
     "metadata": {
      "needs_background": "light"
     },
     "output_type": "display_data"
    }
   ],
   "source": [
    "from evaluation.visualization import weights_plot\n",
    "\n",
    "weights_plot(text_tokenizer(premise), max_pool_propensity(text_to_input(premise, vocab), maxpool)[0][1:-1])"
   ]
  },
  {
   "cell_type": "markdown",
   "metadata": {},
   "source": [
    "The following gives the exact same figure, but only highlights the text (more succinct)"
   ]
  },
  {
   "cell_type": "code",
   "execution_count": 18,
   "metadata": {},
   "outputs": [
    {
     "data": {
      "text/html": [
       "<span class=\"barcode\"; style=\"color: black; background-color: #85bcdc\">&nbspi&nbsp</span> <span class=\"barcode\"; style=\"color: black; background-color: #b3d3e8\">&nbspam&nbsp</span> <span class=\"barcode\"; style=\"color: black; background-color: #5ba3d0\">&nbspat&nbsp</span> <span class=\"barcode\"; style=\"color: black; background-color: #5ca4d0\">&nbspmy&nbsp</span> <span class=\"barcode\"; style=\"color: black; background-color: #2070b4\">&nbspdesk&nbsp</span> <span class=\"barcode\"; style=\"color: black; background-color: #3f8fc5\">&nbspfinishing&nbsp</span> <span class=\"barcode\"; style=\"color: black; background-color: #61a7d2\">&nbspmy&nbsp</span> <span class=\"barcode\"; style=\"color: black; background-color: #74b3d8\">&nbspassignment&nbsp</span> <span class=\"barcode\"; style=\"color: black; background-color: #cfe1f2\">&nbsp.&nbsp</span>"
      ],
      "text/plain": [
       "<IPython.core.display.HTML object>"
      ]
     },
     "metadata": {},
     "output_type": "display_data"
    },
    {
     "data": {
      "text/html": [
       "<span class=\"barcode\"; style=\"color: black; background-color: #c4daee\">&nbspa&nbsp</span> <span class=\"barcode\"; style=\"color: black; background-color: #9fcae1\">&nbspman&nbsp</span> <span class=\"barcode\"; style=\"color: black; background-color: #2a7ab9\">&nbspis&nbsp</span> <span class=\"barcode\"; style=\"color: black; background-color: #9ac8e0\">&nbspsitting&nbsp</span> <span class=\"barcode\"; style=\"color: black; background-color: #3383be\">&nbspat&nbsp</span> <span class=\"barcode\"; style=\"color: black; background-color: #b9d6ea\">&nbsphis&nbsp</span> <span class=\"barcode\"; style=\"color: black; background-color: #2070b4\">&nbspdesk&nbsp</span> <span class=\"barcode\"; style=\"color: black; background-color: #8dc1dd\">&nbsp.&nbsp</span>"
      ],
      "text/plain": [
       "<IPython.core.display.HTML object>"
      ]
     },
     "metadata": {},
     "output_type": "display_data"
    }
   ],
   "source": [
    "from evaluation.visualization import text_highlighter\n",
    "\n",
    "display(text_highlighter(premise, max_pool_propensity(text_to_input(premise, vocab), maxpool)[0]))\n",
    "display(text_highlighter(hypothesis, max_pool_propensity(text_to_input(hypothesis, vocab), maxpool)[0]))"
   ]
  },
  {
   "cell_type": "markdown",
   "metadata": {},
   "source": [
    "## Error Analysis of BiLSTM w/ Maxpool\n",
    "The only naked code in this notebook"
   ]
  },
  {
   "cell_type": "markdown",
   "metadata": {},
   "source": [
    "### Worst of the worst"
   ]
  },
  {
   "cell_type": "code",
   "execution_count": 19,
   "metadata": {},
   "outputs": [],
   "source": [
    "import pickle \n",
    "\n",
    "with open(\"./checkpoints/InferSent-BiMaxPool_v3/best_worst_loss.pkl\", 'rb+') as file:\n",
    "    best_worst_losses = pickle.load(file)"
   ]
  },
  {
   "cell_type": "code",
   "execution_count": 20,
   "metadata": {},
   "outputs": [
    {
     "data": {
      "text/html": [
       "<style  type=\"text/css\" >\n",
       "#T_bf1fb_row0_col3,#T_bf1fb_row0_col5,#T_bf1fb_row1_col4,#T_bf1fb_row2_col4,#T_bf1fb_row2_col5,#T_bf1fb_row3_col3,#T_bf1fb_row3_col5,#T_bf1fb_row4_col4,#T_bf1fb_row5_col4,#T_bf1fb_row6_col4,#T_bf1fb_row7_col4,#T_bf1fb_row7_col5,#T_bf1fb_row8_col3,#T_bf1fb_row8_col4,#T_bf1fb_row9_col3,#T_bf1fb_row9_col5{\n",
       "            background-color:  #f7fbff;\n",
       "        }#T_bf1fb_row0_col4{\n",
       "            background-color:  #2070b4;\n",
       "        }#T_bf1fb_row1_col3{\n",
       "            background-color:  #2f7fbc;\n",
       "        }#T_bf1fb_row1_col5{\n",
       "            background-color:  #edf4fc;\n",
       "        }#T_bf1fb_row2_col3,#T_bf1fb_row3_col4,#T_bf1fb_row7_col3,#T_bf1fb_row8_col5,#T_bf1fb_row9_col4{\n",
       "            background-color:  #2171b5;\n",
       "        }#T_bf1fb_row4_col3{\n",
       "            background-color:  #2373b6;\n",
       "        }#T_bf1fb_row4_col5{\n",
       "            background-color:  #f5fafe;\n",
       "        }#T_bf1fb_row5_col3{\n",
       "            background-color:  #f6faff;\n",
       "        }#T_bf1fb_row5_col5{\n",
       "            background-color:  #2272b6;\n",
       "        }#T_bf1fb_row6_col3{\n",
       "            background-color:  #d6e6f4;\n",
       "        }#T_bf1fb_row6_col5{\n",
       "            background-color:  #4f9bcb;\n",
       "        }</style><table id=\"T_bf1fb_\" ><thead>    <tr>        <th class=\"blank level0\" ></th>        <th class=\"col_heading level0 col0\" >Premise</th>        <th class=\"col_heading level0 col1\" >Hypothesis</th>        <th class=\"col_heading level0 col2\" >Label</th>        <th class=\"col_heading level0 col3\" >p(f(x)=0)</th>        <th class=\"col_heading level0 col4\" >p(f(x)=1)</th>        <th class=\"col_heading level0 col5\" >p(f(x)=2)</th>        <th class=\"col_heading level0 col6\" >Loss</th>    </tr></thead><tbody>\n",
       "                <tr>\n",
       "                        <th id=\"T_bf1fb_level0_row0\" class=\"row_heading level0 row0\" >0</th>\n",
       "                        <td id=\"T_bf1fb_row0_col0\" class=\"data row0 col0\" >ski equipment sits alone on a snowy mountain</td>\n",
       "                        <td id=\"T_bf1fb_row0_col1\" class=\"data row0 col1\" >skis and boots are outside a ski lodge while the skiers enjoy a hot drink indoors .</td>\n",
       "                        <td id=\"T_bf1fb_row0_col2\" class=\"data row0 col2\" >2</td>\n",
       "                        <td id=\"T_bf1fb_row0_col3\" class=\"data row0 col3\" >0.000000</td>\n",
       "                        <td id=\"T_bf1fb_row0_col4\" class=\"data row0 col4\" >1.000000</td>\n",
       "                        <td id=\"T_bf1fb_row0_col5\" class=\"data row0 col5\" >0.000000</td>\n",
       "                        <td id=\"T_bf1fb_row0_col6\" class=\"data row0 col6\" >18.079325</td>\n",
       "            </tr>\n",
       "            <tr>\n",
       "                        <th id=\"T_bf1fb_level0_row1\" class=\"row_heading level0 row1\" >1</th>\n",
       "                        <td id=\"T_bf1fb_row1_col0\" class=\"data row1 col0\" >a man is standing in front of a building holding heart shaped balloons and a woman is crossing the street .</td>\n",
       "                        <td id=\"T_bf1fb_row1_col1\" class=\"data row1 col1\" >someone is holding something heavy outside .</td>\n",
       "                        <td id=\"T_bf1fb_row1_col2\" class=\"data row1 col2\" >1</td>\n",
       "                        <td id=\"T_bf1fb_row1_col3\" class=\"data row1 col3\" >0.929906</td>\n",
       "                        <td id=\"T_bf1fb_row1_col4\" class=\"data row1 col4\" >0.000004</td>\n",
       "                        <td id=\"T_bf1fb_row1_col5\" class=\"data row1 col5\" >0.070090</td>\n",
       "                        <td id=\"T_bf1fb_row1_col6\" class=\"data row1 col6\" >16.559555</td>\n",
       "            </tr>\n",
       "            <tr>\n",
       "                        <th id=\"T_bf1fb_level0_row2\" class=\"row_heading level0 row2\" >2</th>\n",
       "                        <td id=\"T_bf1fb_row2_col0\" class=\"data row2 col0\" >a young man trying to buy a car from his dealer after his old car was towed away by police .</td>\n",
       "                        <td id=\"T_bf1fb_row2_col1\" class=\"data row2 col1\" >a person renting a vehicle .</td>\n",
       "                        <td id=\"T_bf1fb_row2_col2\" class=\"data row2 col2\" >1</td>\n",
       "                        <td id=\"T_bf1fb_row2_col3\" class=\"data row2 col3\" >0.999518</td>\n",
       "                        <td id=\"T_bf1fb_row2_col4\" class=\"data row2 col4\" >0.000000</td>\n",
       "                        <td id=\"T_bf1fb_row2_col5\" class=\"data row2 col5\" >0.000482</td>\n",
       "                        <td id=\"T_bf1fb_row2_col6\" class=\"data row2 col6\" >16.040890</td>\n",
       "            </tr>\n",
       "            <tr>\n",
       "                        <th id=\"T_bf1fb_level0_row3\" class=\"row_heading level0 row3\" >3</th>\n",
       "                        <td id=\"T_bf1fb_row3_col0\" class=\"data row3 col0\" >several women are playing volleyball .</td>\n",
       "                        <td id=\"T_bf1fb_row3_col1\" class=\"data row3 col1\" >this does n't look like soccer</td>\n",
       "                        <td id=\"T_bf1fb_row3_col2\" class=\"data row3 col2\" >0</td>\n",
       "                        <td id=\"T_bf1fb_row3_col3\" class=\"data row3 col3\" >0.000000</td>\n",
       "                        <td id=\"T_bf1fb_row3_col4\" class=\"data row3 col4\" >0.999996</td>\n",
       "                        <td id=\"T_bf1fb_row3_col5\" class=\"data row3 col5\" >0.000004</td>\n",
       "                        <td id=\"T_bf1fb_row3_col6\" class=\"data row3 col6\" >14.767435</td>\n",
       "            </tr>\n",
       "            <tr>\n",
       "                        <th id=\"T_bf1fb_level0_row4\" class=\"row_heading level0 row4\" >4</th>\n",
       "                        <td id=\"T_bf1fb_row4_col0\" class=\"data row4 col0\" >swimming in the wide blue ocean .</td>\n",
       "                        <td id=\"T_bf1fb_row4_col1\" class=\"data row4 col1\" >the ocean swims in the blue wideness .</td>\n",
       "                        <td id=\"T_bf1fb_row4_col2\" class=\"data row4 col2\" >1</td>\n",
       "                        <td id=\"T_bf1fb_row4_col3\" class=\"data row4 col3\" >0.989514</td>\n",
       "                        <td id=\"T_bf1fb_row4_col4\" class=\"data row4 col4\" >0.000011</td>\n",
       "                        <td id=\"T_bf1fb_row4_col5\" class=\"data row4 col5\" >0.010475</td>\n",
       "                        <td id=\"T_bf1fb_row4_col6\" class=\"data row4 col6\" >13.331501</td>\n",
       "            </tr>\n",
       "            <tr>\n",
       "                        <th id=\"T_bf1fb_level0_row5\" class=\"row_heading level0 row5\" >5</th>\n",
       "                        <td id=\"T_bf1fb_row5_col0\" class=\"data row5 col0\" >here are a bunch of people enjoying dinner and chatting .</td>\n",
       "                        <td id=\"T_bf1fb_row5_col1\" class=\"data row5 col1\" >our group is enjoying an early brunch .</td>\n",
       "                        <td id=\"T_bf1fb_row5_col2\" class=\"data row5 col2\" >1</td>\n",
       "                        <td id=\"T_bf1fb_row5_col3\" class=\"data row5 col3\" >0.006706</td>\n",
       "                        <td id=\"T_bf1fb_row5_col4\" class=\"data row5 col4\" >0.000033</td>\n",
       "                        <td id=\"T_bf1fb_row5_col5\" class=\"data row5 col5\" >0.993261</td>\n",
       "                        <td id=\"T_bf1fb_row5_col6\" class=\"data row5 col6\" >12.890605</td>\n",
       "            </tr>\n",
       "            <tr>\n",
       "                        <th id=\"T_bf1fb_level0_row6\" class=\"row_heading level0 row6\" >6</th>\n",
       "                        <td id=\"T_bf1fb_row6_col0\" class=\"data row6 col0\" >a band performing at a local bar or club .</td>\n",
       "                        <td id=\"T_bf1fb_row6_col1\" class=\"data row6 col1\" >the band is playing music at a large venue</td>\n",
       "                        <td id=\"T_bf1fb_row6_col2\" class=\"data row6 col2\" >1</td>\n",
       "                        <td id=\"T_bf1fb_row6_col3\" class=\"data row6 col3\" >0.222308</td>\n",
       "                        <td id=\"T_bf1fb_row6_col4\" class=\"data row6 col4\" >0.000034</td>\n",
       "                        <td id=\"T_bf1fb_row6_col5\" class=\"data row6 col5\" >0.777657</td>\n",
       "                        <td id=\"T_bf1fb_row6_col6\" class=\"data row6 col6\" >12.865244</td>\n",
       "            </tr>\n",
       "            <tr>\n",
       "                        <th id=\"T_bf1fb_level0_row7\" class=\"row_heading level0 row7\" >7</th>\n",
       "                        <td id=\"T_bf1fb_row7_col0\" class=\"data row7 col0\" >a man wearing a welding mask working on a duct .</td>\n",
       "                        <td id=\"T_bf1fb_row7_col1\" class=\"data row7 col1\" >the man is working underneath a vehicle .</td>\n",
       "                        <td id=\"T_bf1fb_row7_col2\" class=\"data row7 col2\" >1</td>\n",
       "                        <td id=\"T_bf1fb_row7_col3\" class=\"data row7 col3\" >0.998208</td>\n",
       "                        <td id=\"T_bf1fb_row7_col4\" class=\"data row7 col4\" >0.000018</td>\n",
       "                        <td id=\"T_bf1fb_row7_col5\" class=\"data row7 col5\" >0.001774</td>\n",
       "                        <td id=\"T_bf1fb_row7_col6\" class=\"data row7 col6\" >12.651140</td>\n",
       "            </tr>\n",
       "            <tr>\n",
       "                        <th id=\"T_bf1fb_level0_row8\" class=\"row_heading level0 row8\" >8</th>\n",
       "                        <td id=\"T_bf1fb_row8_col0\" class=\"data row8 col0\" >people are riding bicycles in the street , and they are all wearing helmets .</td>\n",
       "                        <td id=\"T_bf1fb_row8_col1\" class=\"data row8 col1\" >a group of friends are grabbing their bikes , getting ready for the morning bike ride</td>\n",
       "                        <td id=\"T_bf1fb_row8_col2\" class=\"data row8 col2\" >1</td>\n",
       "                        <td id=\"T_bf1fb_row8_col3\" class=\"data row8 col3\" >0.005034</td>\n",
       "                        <td id=\"T_bf1fb_row8_col4\" class=\"data row8 col4\" >0.000005</td>\n",
       "                        <td id=\"T_bf1fb_row8_col5\" class=\"data row8 col5\" >0.994961</td>\n",
       "                        <td id=\"T_bf1fb_row8_col6\" class=\"data row8 col6\" >12.611356</td>\n",
       "            </tr>\n",
       "            <tr>\n",
       "                        <th id=\"T_bf1fb_level0_row9\" class=\"row_heading level0 row9\" >9</th>\n",
       "                        <td id=\"T_bf1fb_row9_col0\" class=\"data row9 col0\" >there is a man poking a long stick up towards the ceiling .</td>\n",
       "                        <td id=\"T_bf1fb_row9_col1\" class=\"data row9 col1\" >the man has no arms .</td>\n",
       "                        <td id=\"T_bf1fb_row9_col2\" class=\"data row9 col2\" >2</td>\n",
       "                        <td id=\"T_bf1fb_row9_col3\" class=\"data row9 col3\" >0.000002</td>\n",
       "                        <td id=\"T_bf1fb_row9_col4\" class=\"data row9 col4\" >0.999996</td>\n",
       "                        <td id=\"T_bf1fb_row9_col5\" class=\"data row9 col5\" >0.000003</td>\n",
       "                        <td id=\"T_bf1fb_row9_col6\" class=\"data row9 col6\" >12.196178</td>\n",
       "            </tr>\n",
       "    </tbody></table>"
      ],
      "text/plain": [
       "<pandas.io.formats.style.Styler at 0x1b15b5e46d0>"
      ]
     },
     "execution_count": 20,
     "metadata": {},
     "output_type": "execute_result"
    }
   ],
   "source": [
    "from torch.nn.utils.rnn import pad_sequence\n",
    "\n",
    "losses = []\n",
    "premise_texts = []\n",
    "hypothesis_texts = []\n",
    "true_labels = []\n",
    "for (l, prem, hypo, lab) in best_worst_losses['worst']:\n",
    "    losses.append(l)\n",
    "    premise_texts.append(text_to_input(prem, vocab))\n",
    "    hypothesis_texts.append(text_to_input(hypo, vocab))\n",
    "    true_labels.append(lab)\n",
    "\n",
    "premise_texts_ = pad_sequence(premise_texts, padding_value=vocab[\"<PAD>\"]).squeeze()\n",
    "hypothesis_texts_ = pad_sequence(hypothesis_texts, padding_value=vocab[\"<PAD>\"]).squeeze()\n",
    "\n",
    "input_output_table(premise_texts_, hypothesis_texts_, true_labels, maxpool, vocab, loss=losses, N=10)"
   ]
  },
  {
   "cell_type": "code",
   "execution_count": 21,
   "metadata": {},
   "outputs": [
    {
     "name": "stdout",
     "output_type": "stream",
     "text": [
      "Rank 0, true class 2\n"
     ]
    },
    {
     "data": {
      "text/html": [
       "<span class=\"barcode\"; style=\"color: black; background-color: #2070b4\">&nbspski&nbsp</span> <span class=\"barcode\"; style=\"color: black; background-color: #9ac8e0\">&nbspequipment&nbsp</span> <span class=\"barcode\"; style=\"color: black; background-color: #68acd5\">&nbspsits&nbsp</span> <span class=\"barcode\"; style=\"color: black; background-color: #79b5d9\">&nbspalone&nbsp</span> <span class=\"barcode\"; style=\"color: black; background-color: #61a7d2\">&nbspon&nbsp</span> <span class=\"barcode\"; style=\"color: black; background-color: #cbdef1\">&nbspa&nbsp</span> <span class=\"barcode\"; style=\"color: black; background-color: #57a0ce\">&nbspsnowy&nbsp</span> <span class=\"barcode\"; style=\"color: black; background-color: #97c6df\">&nbspmountain&nbsp</span>"
      ],
      "text/plain": [
       "<IPython.core.display.HTML object>"
      ]
     },
     "metadata": {},
     "output_type": "display_data"
    },
    {
     "data": {
      "text/html": [
       "<span class=\"barcode\"; style=\"color: black; background-color: #2070b4\">&nbspskis&nbsp</span> <span class=\"barcode\"; style=\"color: black; background-color: #a9cfe5\">&nbspand&nbsp</span> <span class=\"barcode\"; style=\"color: black; background-color: #4695c8\">&nbspboots&nbsp</span> <span class=\"barcode\"; style=\"color: black; background-color: #3b8bc2\">&nbspare&nbsp</span> <span class=\"barcode\"; style=\"color: black; background-color: #4896c8\">&nbspoutside&nbsp</span> <span class=\"barcode\"; style=\"color: black; background-color: #91c3de\">&nbspa&nbsp</span> <span class=\"barcode\"; style=\"color: black; background-color: #d5e5f4\">&nbspski&nbsp</span> <span class=\"barcode\"; style=\"color: black; background-color: #91c3de\">&nbsplodge&nbsp</span> <span class=\"barcode\"; style=\"color: black; background-color: #69add5\">&nbspwhile&nbsp</span> <span class=\"barcode\"; style=\"color: black; background-color: #3c8cc3\">&nbspthe&nbsp</span> <span class=\"barcode\"; style=\"color: black; background-color: #4896c8\">&nbspskiers&nbsp</span> <span class=\"barcode\"; style=\"color: black; background-color: #ddeaf7\">&nbspenjoy&nbsp</span> <span class=\"barcode\"; style=\"color: black; background-color: #8abfdd\">&nbspa&nbsp</span> <span class=\"barcode\"; style=\"color: black; background-color: #b3d3e8\">&nbsphot&nbsp</span> <span class=\"barcode\"; style=\"color: black; background-color: #c3daee\">&nbspdrink&nbsp</span> <span class=\"barcode\"; style=\"color: black; background-color: #87bddc\">&nbspindoors&nbsp</span> <span class=\"barcode\"; style=\"color: black; background-color: #e3eef8\">&nbsp.&nbsp</span>"
      ],
      "text/plain": [
       "<IPython.core.display.HTML object>"
      ]
     },
     "metadata": {},
     "output_type": "display_data"
    },
    {
     "name": "stdout",
     "output_type": "stream",
     "text": [
      "\n",
      "Rank 5, true class 1\n"
     ]
    },
    {
     "data": {
      "text/html": [
       "<span class=\"barcode\"; style=\"color: black; background-color: #c3daee\">&nbsphere&nbsp</span> <span class=\"barcode\"; style=\"color: black; background-color: #91c3de\">&nbspare&nbsp</span> <span class=\"barcode\"; style=\"color: black; background-color: #2070b4\">&nbspa&nbsp</span> <span class=\"barcode\"; style=\"color: black; background-color: #3686c0\">&nbspbunch&nbsp</span> <span class=\"barcode\"; style=\"color: black; background-color: #8cc0dd\">&nbspof&nbsp</span> <span class=\"barcode\"; style=\"color: black; background-color: #3989c1\">&nbsppeople&nbsp</span> <span class=\"barcode\"; style=\"color: black; background-color: #c7dcef\">&nbspenjoying&nbsp</span> <span class=\"barcode\"; style=\"color: black; background-color: #d3e4f3\">&nbspdinner&nbsp</span> <span class=\"barcode\"; style=\"color: black; background-color: #5aa2cf\">&nbspand&nbsp</span> <span class=\"barcode\"; style=\"color: black; background-color: #c4daee\">&nbspchatting&nbsp</span> <span class=\"barcode\"; style=\"color: black; background-color: #dfecf7\">&nbsp.&nbsp</span>"
      ],
      "text/plain": [
       "<IPython.core.display.HTML object>"
      ]
     },
     "metadata": {},
     "output_type": "display_data"
    },
    {
     "data": {
      "text/html": [
       "<span class=\"barcode\"; style=\"color: black; background-color: #d3e4f3\">&nbspour&nbsp</span> <span class=\"barcode\"; style=\"color: black; background-color: #74b3d8\">&nbspgroup&nbsp</span> <span class=\"barcode\"; style=\"color: black; background-color: #2070b4\">&nbspis&nbsp</span> <span class=\"barcode\"; style=\"color: black; background-color: #a3cce3\">&nbspenjoying&nbsp</span> <span class=\"barcode\"; style=\"color: black; background-color: #d0e1f2\">&nbspan&nbsp</span> <span class=\"barcode\"; style=\"color: black; background-color: #89bedc\">&nbspearly&nbsp</span> <span class=\"barcode\"; style=\"color: black; background-color: #87bddc\">&nbspbrunch&nbsp</span> <span class=\"barcode\"; style=\"color: black; background-color: #bfd8ed\">&nbsp.&nbsp</span>"
      ],
      "text/plain": [
       "<IPython.core.display.HTML object>"
      ]
     },
     "metadata": {},
     "output_type": "display_data"
    },
    {
     "name": "stdout",
     "output_type": "stream",
     "text": [
      "\n",
      "Rank 13, true class 0\n"
     ]
    },
    {
     "data": {
      "text/html": [
       "<span class=\"barcode\"; style=\"color: black; background-color: #afd1e7\">&nbspan&nbsp</span> <span class=\"barcode\"; style=\"color: black; background-color: #5ca4d0\">&nbsporgan&nbsp</span> <span class=\"barcode\"; style=\"color: black; background-color: #5ba3d0\">&nbspgrinder&nbsp</span> <span class=\"barcode\"; style=\"color: black; background-color: #2070b4\">&nbsp,&nbsp</span> <span class=\"barcode\"; style=\"color: black; background-color: #a5cde3\">&nbspin&nbsp</span> <span class=\"barcode\"; style=\"color: black; background-color: #2c7cba\">&nbspworld&nbsp</span> <span class=\"barcode\"; style=\"color: black; background-color: #68acd5\">&nbspwar&nbsp</span> <span class=\"barcode\"; style=\"color: black; background-color: #a8cee4\">&nbspi&nbsp</span> <span class=\"barcode\"; style=\"color: black; background-color: #a6cee4\">&nbsphelmet&nbsp</span> <span class=\"barcode\"; style=\"color: black; background-color: #e3eef9\">&nbspand&nbsp</span> <span class=\"barcode\"; style=\"color: black; background-color: #d7e6f5\">&nbspclown&nbsp</span> <span class=\"barcode\"; style=\"color: black; background-color: #d0e2f2\">&nbspmakeup&nbsp</span> <span class=\"barcode\"; style=\"color: black; background-color: #74b3d8\">&nbsp,&nbsp</span> <span class=\"barcode\"; style=\"color: black; background-color: #a9cfe5\">&nbspspeaks&nbsp</span> <span class=\"barcode\"; style=\"color: black; background-color: #e2edf8\">&nbspto&nbsp</span> <span class=\"barcode\"; style=\"color: black; background-color: #b5d4e9\">&nbspan&nbsp</span> <span class=\"barcode\"; style=\"color: black; background-color: #69add5\">&nbspolder&nbsp</span> <span class=\"barcode\"; style=\"color: black; background-color: #aacfe5\">&nbspman&nbsp</span> <span class=\"barcode\"; style=\"color: black; background-color: #e4eff9\">&nbspin&nbsp</span> <span class=\"barcode\"; style=\"color: black; background-color: #99c7e0\">&nbspa&nbsp</span> <span class=\"barcode\"; style=\"color: black; background-color: #bcd7eb\">&nbspblue&nbsp</span> <span class=\"barcode\"; style=\"color: black; background-color: #e1edf8\">&nbsp,&nbsp</span> <span class=\"barcode\"; style=\"color: black; background-color: #d2e3f3\">&nbspstriped&nbsp</span> <span class=\"barcode\"; style=\"color: black; background-color: #d9e7f5\">&nbsppolo&nbsp</span> <span class=\"barcode\"; style=\"color: black; background-color: #e6f0f9\">&nbspshirt&nbsp</span> <span class=\"barcode\"; style=\"color: black; background-color: #eaf2fb\">&nbsp.&nbsp</span>"
      ],
      "text/plain": [
       "<IPython.core.display.HTML object>"
      ]
     },
     "metadata": {},
     "output_type": "display_data"
    },
    {
     "data": {
      "text/html": [
       "<span class=\"barcode\"; style=\"color: black; background-color: #bdd7ec\">&nbsptwo&nbsp</span> <span class=\"barcode\"; style=\"color: black; background-color: #2070b4\">&nbspmen&nbsp</span> <span class=\"barcode\"; style=\"color: black; background-color: #529dcc\">&nbspare&nbsp</span> <span class=\"barcode\"; style=\"color: black; background-color: #58a1cf\">&nbspseated&nbsp</span> <span class=\"barcode\"; style=\"color: black; background-color: #8cc0dd\">&nbspon&nbsp</span> <span class=\"barcode\"; style=\"color: black; background-color: #3a8ac2\">&nbspa&nbsp</span> <span class=\"barcode\"; style=\"color: black; background-color: #539ecd\">&nbsppark&nbsp</span> <span class=\"barcode\"; style=\"color: black; background-color: #d8e7f5\">&nbspbench&nbsp</span> <span class=\"barcode\"; style=\"color: black; background-color: #92c4de\">&nbsp,&nbsp</span> <span class=\"barcode\"; style=\"color: black; background-color: #77b5d9\">&nbspone&nbsp</span> <span class=\"barcode\"; style=\"color: black; background-color: #b5d4e9\">&nbspin&nbsp</span> <span class=\"barcode\"; style=\"color: black; background-color: #87bddc\">&nbspclown&nbsp</span> <span class=\"barcode\"; style=\"color: black; background-color: #dceaf6\">&nbspmakeup&nbsp</span> <span class=\"barcode\"; style=\"color: black; background-color: #d2e3f3\">&nbspand&nbsp</span> <span class=\"barcode\"; style=\"color: black; background-color: #7ab6d9\">&nbspthe&nbsp</span> <span class=\"barcode\"; style=\"color: black; background-color: #92c4de\">&nbspother&nbsp</span> <span class=\"barcode\"; style=\"color: black; background-color: #dfecf7\">&nbspin&nbsp</span> <span class=\"barcode\"; style=\"color: black; background-color: #a1cbe2\">&nbspa&nbsp</span> <span class=\"barcode\"; style=\"color: black; background-color: #d6e6f4\">&nbspstriped&nbsp</span> <span class=\"barcode\"; style=\"color: black; background-color: #d4e4f4\">&nbsppolo&nbsp</span> <span class=\"barcode\"; style=\"color: black; background-color: #5fa6d1\">&nbspshirt&nbsp</span> <span class=\"barcode\"; style=\"color: black; background-color: #ddeaf7\">&nbsp.&nbsp</span>"
      ],
      "text/plain": [
       "<IPython.core.display.HTML object>"
      ]
     },
     "metadata": {},
     "output_type": "display_data"
    },
    {
     "name": "stdout",
     "output_type": "stream",
     "text": [
      "\n",
      "Rank 23, true class 1\n"
     ]
    },
    {
     "data": {
      "text/html": [
       "<span class=\"barcode\"; style=\"color: black; background-color: #2070b4\">&nbspa&nbsp</span> <span class=\"barcode\"; style=\"color: black; background-color: #7fb9da\">&nbspsmall&nbsp</span> <span class=\"barcode\"; style=\"color: black; background-color: #4a98c9\">&nbspchild&nbsp</span> <span class=\"barcode\"; style=\"color: black; background-color: #cadef0\">&nbspis&nbsp</span> <span class=\"barcode\"; style=\"color: black; background-color: #add0e6\">&nbspgiving&nbsp</span> <span class=\"barcode\"; style=\"color: black; background-color: #4997c9\">&nbspheavy&nbsp</span> <span class=\"barcode\"; style=\"color: black; background-color: #d1e2f3\">&nbspmetal&nbsp</span> <span class=\"barcode\"; style=\"color: black; background-color: #82bbdb\">&nbspsigns&nbsp</span>"
      ],
      "text/plain": [
       "<IPython.core.display.HTML object>"
      ]
     },
     "metadata": {},
     "output_type": "display_data"
    },
    {
     "data": {
      "text/html": [
       "<span class=\"barcode\"; style=\"color: black; background-color: #3f8fc5\">&nbspa&nbsp</span> <span class=\"barcode\"; style=\"color: black; background-color: #2070b4\">&nbspchild&nbsp</span> <span class=\"barcode\"; style=\"color: black; background-color: #bcd7eb\">&nbsppretending&nbsp</span> <span class=\"barcode\"; style=\"color: black; background-color: #c7dbef\">&nbsphis&nbsp</span> <span class=\"barcode\"; style=\"color: black; background-color: #81badb\">&nbsphand&nbsp</span> <span class=\"barcode\"; style=\"color: black; background-color: #a8cee4\">&nbspis&nbsp</span> <span class=\"barcode\"; style=\"color: black; background-color: #65aad4\">&nbspa&nbsp</span> <span class=\"barcode\"; style=\"color: black; background-color: #4896c8\">&nbspbull&nbsp</span> <span class=\"barcode\"; style=\"color: black; background-color: #c6dbef\">&nbsp.&nbsp</span>"
      ],
      "text/plain": [
       "<IPython.core.display.HTML object>"
      ]
     },
     "metadata": {},
     "output_type": "display_data"
    },
    {
     "name": "stdout",
     "output_type": "stream",
     "text": [
      "\n",
      "Rank 28, true class 1\n"
     ]
    },
    {
     "data": {
      "text/html": [
       "<span class=\"barcode\"; style=\"color: black; background-color: #c4daee\">&nbspa&nbsp</span> <span class=\"barcode\"; style=\"color: black; background-color: #2070b4\">&nbspman&nbsp</span> <span class=\"barcode\"; style=\"color: black; background-color: #79b5d9\">&nbspwith&nbsp</span> <span class=\"barcode\"; style=\"color: black; background-color: #c2d9ee\">&nbspa&nbsp</span> <span class=\"barcode\"; style=\"color: black; background-color: #69add5\">&nbspbeard&nbsp</span> <span class=\"barcode\"; style=\"color: black; background-color: #bdd7ec\">&nbspskateboarding&nbsp</span> <span class=\"barcode\"; style=\"color: black; background-color: #cfe1f2\">&nbspand&nbsp</span> <span class=\"barcode\"; style=\"color: black; background-color: #a9cfe5\">&nbspa&nbsp</span> <span class=\"barcode\"; style=\"color: black; background-color: #e3eef9\">&nbspboy&nbsp</span> <span class=\"barcode\"; style=\"color: black; background-color: #dce9f6\">&nbspwith&nbsp</span> <span class=\"barcode\"; style=\"color: black; background-color: #e3eef8\">&nbspa&nbsp</span> <span class=\"barcode\"; style=\"color: black; background-color: #eff6fc\">&nbspblue&nbsp</span> <span class=\"barcode\"; style=\"color: black; background-color: #8abfdd\">&nbspand&nbsp</span> <span class=\"barcode\"; style=\"color: black; background-color: #e8f1fa\">&nbspblack&nbsp</span> <span class=\"barcode\"; style=\"color: black; background-color: #b8d5ea\">&nbspbackpack&nbsp</span> <span class=\"barcode\"; style=\"color: black; background-color: #6fb0d7\">&nbspriding&nbsp</span> <span class=\"barcode\"; style=\"color: black; background-color: #69add5\">&nbspa&nbsp</span> <span class=\"barcode\"; style=\"color: black; background-color: #dfebf7\">&nbspgreen&nbsp</span> <span class=\"barcode\"; style=\"color: black; background-color: #c4daee\">&nbspbike&nbsp</span> <span class=\"barcode\"; style=\"color: black; background-color: #bfd8ed\">&nbspin&nbsp</span> <span class=\"barcode\"; style=\"color: black; background-color: #eef5fc\">&nbspthe&nbsp</span> <span class=\"barcode\"; style=\"color: black; background-color: #d7e6f5\">&nbspbackground&nbsp</span> <span class=\"barcode\"; style=\"color: black; background-color: #eaf2fb\">&nbsp.&nbsp</span>"
      ],
      "text/plain": [
       "<IPython.core.display.HTML object>"
      ]
     },
     "metadata": {},
     "output_type": "display_data"
    },
    {
     "data": {
      "text/html": [
       "<span class=\"barcode\"; style=\"color: black; background-color: #c7dbef\">&nbspthere&nbsp</span> <span class=\"barcode\"; style=\"color: black; background-color: #529dcc\">&nbspis&nbsp</span> <span class=\"barcode\"; style=\"color: black; background-color: #539ecd\">&nbspa&nbsp</span> <span class=\"barcode\"; style=\"color: black; background-color: #61a7d2\">&nbspkid&nbsp</span> <span class=\"barcode\"; style=\"color: black; background-color: #bed8ec\">&nbspskateboarding&nbsp</span> <span class=\"barcode\"; style=\"color: black; background-color: #b3d3e8\">&nbspand&nbsp</span> <span class=\"barcode\"; style=\"color: black; background-color: #99c7e0\">&nbspa&nbsp</span> <span class=\"barcode\"; style=\"color: black; background-color: #2070b4\">&nbspbearded&nbsp</span> <span class=\"barcode\"; style=\"color: black; background-color: #dceaf6\">&nbspman&nbsp</span> <span class=\"barcode\"; style=\"color: black; background-color: #e1edf8\">&nbspon&nbsp</span> <span class=\"barcode\"; style=\"color: black; background-color: #c7dcef\">&nbspa&nbsp</span> <span class=\"barcode\"; style=\"color: black; background-color: #d6e6f4\">&nbspbike&nbsp</span> <span class=\"barcode\"; style=\"color: black; background-color: #529dcc\">&nbsp.&nbsp</span>"
      ],
      "text/plain": [
       "<IPython.core.display.HTML object>"
      ]
     },
     "metadata": {},
     "output_type": "display_data"
    },
    {
     "name": "stdout",
     "output_type": "stream",
     "text": [
      "\n",
      "Rank 35, true class 1\n"
     ]
    },
    {
     "data": {
      "text/html": [
       "<span class=\"barcode\"; style=\"color: black; background-color: #9ac8e0\">&nbspsexy&nbsp</span> <span class=\"barcode\"; style=\"color: black; background-color: #82bbdb\">&nbspyoung&nbsp</span> <span class=\"barcode\"; style=\"color: black; background-color: #2070b4\">&nbspmen&nbsp</span> <span class=\"barcode\"; style=\"color: black; background-color: #3282be\">&nbspstand&nbsp</span> <span class=\"barcode\"; style=\"color: black; background-color: #a9cfe5\">&nbspon&nbsp</span> <span class=\"barcode\"; style=\"color: black; background-color: #4493c7\">&nbspa&nbsp</span> <span class=\"barcode\"; style=\"color: black; background-color: #d3e4f3\">&nbspbalcony&nbsp</span> <span class=\"barcode\"; style=\"color: black; background-color: #82bbdb\">&nbsphaving&nbsp</span> <span class=\"barcode\"; style=\"color: black; background-color: #c1d9ed\">&nbspa&nbsp</span> <span class=\"barcode\"; style=\"color: black; background-color: #2a7ab9\">&nbspheated&nbsp</span> <span class=\"barcode\"; style=\"color: black; background-color: #3b8bc2\">&nbspconversation&nbsp</span> <span class=\"barcode\"; style=\"color: black; background-color: #d9e8f5\">&nbsp.&nbsp</span>"
      ],
      "text/plain": [
       "<IPython.core.display.HTML object>"
      ]
     },
     "metadata": {},
     "output_type": "display_data"
    },
    {
     "data": {
      "text/html": [
       "<span class=\"barcode\"; style=\"color: black; background-color: #b3d3e8\">&nbspthe&nbsp</span> <span class=\"barcode\"; style=\"color: black; background-color: #cee0f2\">&nbspyoung&nbsp</span> <span class=\"barcode\"; style=\"color: black; background-color: #69add5\">&nbspmen&nbsp</span> <span class=\"barcode\"; style=\"color: black; background-color: #65aad4\">&nbspare&nbsp</span> <span class=\"barcode\"; style=\"color: black; background-color: #2070b4\">&nbspin&nbsp</span> <span class=\"barcode\"; style=\"color: black; background-color: #cee0f2\">&nbspcomplete&nbsp</span> <span class=\"barcode\"; style=\"color: black; background-color: #bed8ec\">&nbspagreement&nbsp</span> <span class=\"barcode\"; style=\"color: black; background-color: #c1d9ed\">&nbsp.&nbsp</span>"
      ],
      "text/plain": [
       "<IPython.core.display.HTML object>"
      ]
     },
     "metadata": {},
     "output_type": "display_data"
    },
    {
     "name": "stdout",
     "output_type": "stream",
     "text": [
      "\n"
     ]
    }
   ],
   "source": [
    "for i in [0, 5, 13, 23, 28, 35]:\n",
    "    print('Rank {:}, true class {:}'.format(i, best_worst_losses['worst'][i][3]))\n",
    "    display(text_highlighter(best_worst_losses['worst'][i][1], max_pool_propensity(premise_texts[i], maxpool)[0]))\n",
    "    display(text_highlighter(best_worst_losses['worst'][i][2], max_pool_propensity(hypothesis_texts[i], maxpool)[0]))\n",
    "    print('')"
   ]
  },
  {
   "cell_type": "markdown",
   "metadata": {},
   "source": [
    "The errors made by the model are both impressive and dissapointing. Ultimately, what remains important to the BiLSTM \\w maxpooling (much like the baseline) is word overlap. In sentences where this is not the case, it has a pronounced tendency to classifying as 'Neutral'. \n",
    "\n",
    "Most important to the model seems to be verb matching. If the verbs between the premise and hypothesis match (and their relative order), the model tends for 'Entailment', despite the subjects not matching. More on this later.\n",
    "\n",
    "Otherwise, some truly difficult sentences are also present in the dataset, ones I expect humans to have difficulty with also without further context. "
   ]
  },
  {
   "cell_type": "markdown",
   "metadata": {},
   "source": [
    "### Best of the best"
   ]
  },
  {
   "cell_type": "code",
   "execution_count": 22,
   "metadata": {},
   "outputs": [
    {
     "data": {
      "text/html": [
       "<style  type=\"text/css\" >\n",
       "#T_077de_row0_col3{\n",
       "            background-color:  #3484bf;\n",
       "        }#T_077de_row0_col4{\n",
       "            background-color:  #f5fafe;\n",
       "        }#T_077de_row0_col5{\n",
       "            background-color:  #ebf3fb;\n",
       "        }#T_077de_row1_col3,#T_077de_row1_col5,#T_077de_row2_col3,#T_077de_row2_col5,#T_077de_row3_col3,#T_077de_row3_col5,#T_077de_row4_col3,#T_077de_row4_col5,#T_077de_row5_col3,#T_077de_row5_col5,#T_077de_row6_col3,#T_077de_row6_col5,#T_077de_row7_col3,#T_077de_row7_col5,#T_077de_row8_col3,#T_077de_row8_col5,#T_077de_row9_col3,#T_077de_row9_col5{\n",
       "            background-color:  #f7fbff;\n",
       "        }#T_077de_row1_col4,#T_077de_row2_col4,#T_077de_row3_col4,#T_077de_row4_col4,#T_077de_row5_col4,#T_077de_row7_col4,#T_077de_row8_col4,#T_077de_row9_col4{\n",
       "            background-color:  #2070b4;\n",
       "        }#T_077de_row6_col4{\n",
       "            background-color:  #2171b5;\n",
       "        }</style><table id=\"T_077de_\" ><thead>    <tr>        <th class=\"blank level0\" ></th>        <th class=\"col_heading level0 col0\" >Premise</th>        <th class=\"col_heading level0 col1\" >Hypothesis</th>        <th class=\"col_heading level0 col2\" >Label</th>        <th class=\"col_heading level0 col3\" >p(f(x)=0)</th>        <th class=\"col_heading level0 col4\" >p(f(x)=1)</th>        <th class=\"col_heading level0 col5\" >p(f(x)=2)</th>        <th class=\"col_heading level0 col6\" >Loss</th>    </tr></thead><tbody>\n",
       "                <tr>\n",
       "                        <th id=\"T_077de_level0_row0\" class=\"row_heading level0 row0\" >0</th>\n",
       "                        <td id=\"T_077de_row0_col0\" class=\"data row0 col0\" >in a snowy residential environment , a man with a brown jacket and gray mustache and beard places a hand on a felled log while another man in a blue shirt is blurry on the right side of the photo .</td>\n",
       "                        <td id=\"T_077de_row0_col1\" class=\"data row0 col1\" >the men felled the log in a snowy area .</td>\n",
       "                        <td id=\"T_077de_row0_col2\" class=\"data row0 col2\" >0</td>\n",
       "                        <td id=\"T_077de_row0_col3\" class=\"data row0 col3\" >0.905096</td>\n",
       "                        <td id=\"T_077de_row0_col4\" class=\"data row0 col4\" >0.013302</td>\n",
       "                        <td id=\"T_077de_row0_col5\" class=\"data row0 col5\" >0.081602</td>\n",
       "                        <td id=\"T_077de_row0_col6\" class=\"data row0 col6\" >-0.140916</td>\n",
       "            </tr>\n",
       "            <tr>\n",
       "                        <th id=\"T_077de_level0_row1\" class=\"row_heading level0 row1\" >1</th>\n",
       "                        <td id=\"T_077de_row1_col0\" class=\"data row1 col0\" >boy wearing a blue hoodie jumps over a stair railing .</td>\n",
       "                        <td id=\"T_077de_row1_col1\" class=\"data row1 col1\" >the girl sat on the bench .</td>\n",
       "                        <td id=\"T_077de_row1_col2\" class=\"data row1 col2\" >1</td>\n",
       "                        <td id=\"T_077de_row1_col3\" class=\"data row1 col3\" >0.000000</td>\n",
       "                        <td id=\"T_077de_row1_col4\" class=\"data row1 col4\" >1.000000</td>\n",
       "                        <td id=\"T_077de_row1_col5\" class=\"data row1 col5\" >0.000000</td>\n",
       "                        <td id=\"T_077de_row1_col6\" class=\"data row1 col6\" >0.000000</td>\n",
       "            </tr>\n",
       "            <tr>\n",
       "                        <th id=\"T_077de_level0_row2\" class=\"row_heading level0 row2\" >2</th>\n",
       "                        <td id=\"T_077de_row2_col0\" class=\"data row2 col0\" >dog herding cows</td>\n",
       "                        <td id=\"T_077de_row2_col1\" class=\"data row2 col1\" >cats are sleeping inside the room .</td>\n",
       "                        <td id=\"T_077de_row2_col2\" class=\"data row2 col2\" >1</td>\n",
       "                        <td id=\"T_077de_row2_col3\" class=\"data row2 col3\" >0.000000</td>\n",
       "                        <td id=\"T_077de_row2_col4\" class=\"data row2 col4\" >1.000000</td>\n",
       "                        <td id=\"T_077de_row2_col5\" class=\"data row2 col5\" >0.000000</td>\n",
       "                        <td id=\"T_077de_row2_col6\" class=\"data row2 col6\" >0.000000</td>\n",
       "            </tr>\n",
       "            <tr>\n",
       "                        <th id=\"T_077de_level0_row3\" class=\"row_heading level0 row3\" >3</th>\n",
       "                        <td id=\"T_077de_row3_col0\" class=\"data row3 col0\" >fireworks light up the night as a man stands on stage .</td>\n",
       "                        <td id=\"T_077de_row3_col1\" class=\"data row3 col1\" >the man is studying quietly in the house .</td>\n",
       "                        <td id=\"T_077de_row3_col2\" class=\"data row3 col2\" >1</td>\n",
       "                        <td id=\"T_077de_row3_col3\" class=\"data row3 col3\" >0.000000</td>\n",
       "                        <td id=\"T_077de_row3_col4\" class=\"data row3 col4\" >1.000000</td>\n",
       "                        <td id=\"T_077de_row3_col5\" class=\"data row3 col5\" >0.000000</td>\n",
       "                        <td id=\"T_077de_row3_col6\" class=\"data row3 col6\" >0.000000</td>\n",
       "            </tr>\n",
       "            <tr>\n",
       "                        <th id=\"T_077de_level0_row4\" class=\"row_heading level0 row4\" >4</th>\n",
       "                        <td id=\"T_077de_row4_col0\" class=\"data row4 col0\" >four dark - skinned boys are playing soccer .</td>\n",
       "                        <td id=\"T_077de_row4_col1\" class=\"data row4 col1\" >the boy is eating a sandwich on the moon .</td>\n",
       "                        <td id=\"T_077de_row4_col2\" class=\"data row4 col2\" >1</td>\n",
       "                        <td id=\"T_077de_row4_col3\" class=\"data row4 col3\" >0.000000</td>\n",
       "                        <td id=\"T_077de_row4_col4\" class=\"data row4 col4\" >1.000000</td>\n",
       "                        <td id=\"T_077de_row4_col5\" class=\"data row4 col5\" >0.000000</td>\n",
       "                        <td id=\"T_077de_row4_col6\" class=\"data row4 col6\" >0.000000</td>\n",
       "            </tr>\n",
       "            <tr>\n",
       "                        <th id=\"T_077de_level0_row5\" class=\"row_heading level0 row5\" >5</th>\n",
       "                        <td id=\"T_077de_row5_col0\" class=\"data row5 col0\" >four dogs of varying breeds running through a field .</td>\n",
       "                        <td id=\"T_077de_row5_col1\" class=\"data row5 col1\" >various dogs sleeping in a house .</td>\n",
       "                        <td id=\"T_077de_row5_col2\" class=\"data row5 col2\" >1</td>\n",
       "                        <td id=\"T_077de_row5_col3\" class=\"data row5 col3\" >0.000000</td>\n",
       "                        <td id=\"T_077de_row5_col4\" class=\"data row5 col4\" >1.000000</td>\n",
       "                        <td id=\"T_077de_row5_col5\" class=\"data row5 col5\" >0.000000</td>\n",
       "                        <td id=\"T_077de_row5_col6\" class=\"data row5 col6\" >0.000000</td>\n",
       "            </tr>\n",
       "            <tr>\n",
       "                        <th id=\"T_077de_level0_row6\" class=\"row_heading level0 row6\" >6</th>\n",
       "                        <td id=\"T_077de_row6_col0\" class=\"data row6 col0\" >four men in red vests with crosses on them ski on a mountain .</td>\n",
       "                        <td id=\"T_077de_row6_col1\" class=\"data row6 col1\" >the friends are sitting in a coffee shop .</td>\n",
       "                        <td id=\"T_077de_row6_col2\" class=\"data row6 col2\" >1</td>\n",
       "                        <td id=\"T_077de_row6_col3\" class=\"data row6 col3\" >0.000000</td>\n",
       "                        <td id=\"T_077de_row6_col4\" class=\"data row6 col4\" >1.000000</td>\n",
       "                        <td id=\"T_077de_row6_col5\" class=\"data row6 col5\" >0.000000</td>\n",
       "                        <td id=\"T_077de_row6_col6\" class=\"data row6 col6\" >0.000000</td>\n",
       "            </tr>\n",
       "            <tr>\n",
       "                        <th id=\"T_077de_level0_row7\" class=\"row_heading level0 row7\" >7</th>\n",
       "                        <td id=\"T_077de_row7_col0\" class=\"data row7 col0\" >four older men are playing musical instruments in a park by a wall in traditional costume .</td>\n",
       "                        <td id=\"T_077de_row7_col1\" class=\"data row7 col1\" >four young women are playing chess in the park .</td>\n",
       "                        <td id=\"T_077de_row7_col2\" class=\"data row7 col2\" >1</td>\n",
       "                        <td id=\"T_077de_row7_col3\" class=\"data row7 col3\" >0.000000</td>\n",
       "                        <td id=\"T_077de_row7_col4\" class=\"data row7 col4\" >1.000000</td>\n",
       "                        <td id=\"T_077de_row7_col5\" class=\"data row7 col5\" >0.000000</td>\n",
       "                        <td id=\"T_077de_row7_col6\" class=\"data row7 col6\" >0.000000</td>\n",
       "            </tr>\n",
       "            <tr>\n",
       "                        <th id=\"T_077de_level0_row8\" class=\"row_heading level0 row8\" >8</th>\n",
       "                        <td id=\"T_077de_row8_col0\" class=\"data row8 col0\" >group of men sitting at a table turn to have their picture taken .</td>\n",
       "                        <td id=\"T_077de_row8_col1\" class=\"data row8 col1\" >the group of men are running around the street in different directions .</td>\n",
       "                        <td id=\"T_077de_row8_col2\" class=\"data row8 col2\" >1</td>\n",
       "                        <td id=\"T_077de_row8_col3\" class=\"data row8 col3\" >0.000000</td>\n",
       "                        <td id=\"T_077de_row8_col4\" class=\"data row8 col4\" >1.000000</td>\n",
       "                        <td id=\"T_077de_row8_col5\" class=\"data row8 col5\" >0.000000</td>\n",
       "                        <td id=\"T_077de_row8_col6\" class=\"data row8 col6\" >0.000000</td>\n",
       "            </tr>\n",
       "            <tr>\n",
       "                        <th id=\"T_077de_level0_row9\" class=\"row_heading level0 row9\" >9</th>\n",
       "                        <td id=\"T_077de_row9_col0\" class=\"data row9 col0\" >horses jumping a hurdle in a race .</td>\n",
       "                        <td id=\"T_077de_row9_col1\" class=\"data row9 col1\" >a lion is eating a huge slab of raw meat .</td>\n",
       "                        <td id=\"T_077de_row9_col2\" class=\"data row9 col2\" >1</td>\n",
       "                        <td id=\"T_077de_row9_col3\" class=\"data row9 col3\" >0.000000</td>\n",
       "                        <td id=\"T_077de_row9_col4\" class=\"data row9 col4\" >1.000000</td>\n",
       "                        <td id=\"T_077de_row9_col5\" class=\"data row9 col5\" >0.000000</td>\n",
       "                        <td id=\"T_077de_row9_col6\" class=\"data row9 col6\" >0.000000</td>\n",
       "            </tr>\n",
       "    </tbody></table>"
      ],
      "text/plain": [
       "<pandas.io.formats.style.Styler at 0x1b15eab48e0>"
      ]
     },
     "execution_count": 22,
     "metadata": {},
     "output_type": "execute_result"
    }
   ],
   "source": [
    "from torch.nn.utils.rnn import pad_sequence\n",
    "\n",
    "losses = []\n",
    "premise_texts = []\n",
    "hypothesis_texts = []\n",
    "true_labels = []\n",
    "for (l, prem, hypo, lab) in best_worst_losses['best']:\n",
    "    losses.append(l)\n",
    "    premise_texts.append(text_to_input(prem, vocab))\n",
    "    hypothesis_texts.append(text_to_input(hypo, vocab))\n",
    "    true_labels.append(lab)\n",
    "\n",
    "premise_texts_ = pad_sequence(premise_texts, padding_value=vocab[\"<PAD>\"]).squeeze()\n",
    "hypothesis_texts_ = pad_sequence(hypothesis_texts, padding_value=vocab[\"<PAD>\"]).squeeze()\n",
    "\n",
    "input_output_table(premise_texts_, hypothesis_texts_, true_labels, maxpool, vocab, loss=losses, N=10)"
   ]
  },
  {
   "cell_type": "markdown",
   "metadata": {},
   "source": [
    "Top loss is negative here because I needed to invert a heap."
   ]
  },
  {
   "cell_type": "code",
   "execution_count": 23,
   "metadata": {},
   "outputs": [
    {
     "name": "stdout",
     "output_type": "stream",
     "text": [
      "Rank 1, true class 1\n"
     ]
    },
    {
     "data": {
      "text/html": [
       "<span class=\"barcode\"; style=\"color: black; background-color: #3c8cc3\">&nbspboy&nbsp</span> <span class=\"barcode\"; style=\"color: black; background-color: #4594c7\">&nbspwearing&nbsp</span> <span class=\"barcode\"; style=\"color: black; background-color: #5da5d1\">&nbspa&nbsp</span> <span class=\"barcode\"; style=\"color: black; background-color: #2070b4\">&nbspblue&nbsp</span> <span class=\"barcode\"; style=\"color: black; background-color: #4493c7\">&nbsphoodie&nbsp</span> <span class=\"barcode\"; style=\"color: black; background-color: #2f7fbc\">&nbspjumps&nbsp</span> <span class=\"barcode\"; style=\"color: black; background-color: #6dafd7\">&nbspover&nbsp</span> <span class=\"barcode\"; style=\"color: black; background-color: #b5d4e9\">&nbspa&nbsp</span> <span class=\"barcode\"; style=\"color: black; background-color: #3d8dc4\">&nbspstair&nbsp</span> <span class=\"barcode\"; style=\"color: black; background-color: #79b5d9\">&nbsprailing&nbsp</span> <span class=\"barcode\"; style=\"color: black; background-color: #d3e3f3\">&nbsp.&nbsp</span>"
      ],
      "text/plain": [
       "<IPython.core.display.HTML object>"
      ]
     },
     "metadata": {},
     "output_type": "display_data"
    },
    {
     "data": {
      "text/html": [
       "<span class=\"barcode\"; style=\"color: black; background-color: #3888c1\">&nbspthe&nbsp</span> <span class=\"barcode\"; style=\"color: black; background-color: #5da5d1\">&nbspgirl&nbsp</span> <span class=\"barcode\"; style=\"color: black; background-color: #2e7ebc\">&nbspsat&nbsp</span> <span class=\"barcode\"; style=\"color: black; background-color: #c1d9ed\">&nbspon&nbsp</span> <span class=\"barcode\"; style=\"color: black; background-color: #2070b4\">&nbspthe&nbsp</span> <span class=\"barcode\"; style=\"color: black; background-color: #66abd4\">&nbspbench&nbsp</span> <span class=\"barcode\"; style=\"color: black; background-color: #d0e2f2\">&nbsp.&nbsp</span>"
      ],
      "text/plain": [
       "<IPython.core.display.HTML object>"
      ]
     },
     "metadata": {},
     "output_type": "display_data"
    },
    {
     "name": "stdout",
     "output_type": "stream",
     "text": [
      "\n",
      "Rank 2, true class 1\n"
     ]
    },
    {
     "data": {
      "text/html": [
       "<span class=\"barcode\"; style=\"color: black; background-color: #2070b4\">&nbspdog&nbsp</span> <span class=\"barcode\"; style=\"color: black; background-color: #57a0ce\">&nbspherding&nbsp</span> <span class=\"barcode\"; style=\"color: black; background-color: #65aad4\">&nbspcows&nbsp</span>"
      ],
      "text/plain": [
       "<IPython.core.display.HTML object>"
      ]
     },
     "metadata": {},
     "output_type": "display_data"
    },
    {
     "data": {
      "text/html": [
       "<span class=\"barcode\"; style=\"color: black; background-color: #ccdff1\">&nbspcats&nbsp</span> <span class=\"barcode\"; style=\"color: black; background-color: #abd0e6\">&nbspare&nbsp</span> <span class=\"barcode\"; style=\"color: black; background-color: #2b7bba\">&nbspsleeping&nbsp</span> <span class=\"barcode\"; style=\"color: black; background-color: #2070b4\">&nbspinside&nbsp</span> <span class=\"barcode\"; style=\"color: black; background-color: #cde0f1\">&nbspthe&nbsp</span> <span class=\"barcode\"; style=\"color: black; background-color: #8cc0dd\">&nbsproom&nbsp</span> <span class=\"barcode\"; style=\"color: black; background-color: #6dafd7\">&nbsp.&nbsp</span>"
      ],
      "text/plain": [
       "<IPython.core.display.HTML object>"
      ]
     },
     "metadata": {},
     "output_type": "display_data"
    },
    {
     "name": "stdout",
     "output_type": "stream",
     "text": [
      "\n",
      "Rank 8, true class 1\n"
     ]
    },
    {
     "data": {
      "text/html": [
       "<span class=\"barcode\"; style=\"color: black; background-color: #2070b4\">&nbspgroup&nbsp</span> <span class=\"barcode\"; style=\"color: black; background-color: #87bddc\">&nbspof&nbsp</span> <span class=\"barcode\"; style=\"color: black; background-color: #2979b9\">&nbspmen&nbsp</span> <span class=\"barcode\"; style=\"color: black; background-color: #4b98ca\">&nbspsitting&nbsp</span> <span class=\"barcode\"; style=\"color: black; background-color: #66abd4\">&nbspat&nbsp</span> <span class=\"barcode\"; style=\"color: black; background-color: #a1cbe2\">&nbspa&nbsp</span> <span class=\"barcode\"; style=\"color: black; background-color: #bad6eb\">&nbsptable&nbsp</span> <span class=\"barcode\"; style=\"color: black; background-color: #3e8ec4\">&nbspturn&nbsp</span> <span class=\"barcode\"; style=\"color: black; background-color: #cddff1\">&nbspto&nbsp</span> <span class=\"barcode\"; style=\"color: black; background-color: #8cc0dd\">&nbsphave&nbsp</span> <span class=\"barcode\"; style=\"color: black; background-color: #bcd7eb\">&nbsptheir&nbsp</span> <span class=\"barcode\"; style=\"color: black; background-color: #bed8ec\">&nbsppicture&nbsp</span> <span class=\"barcode\"; style=\"color: black; background-color: #b3d3e8\">&nbsptaken&nbsp</span> <span class=\"barcode\"; style=\"color: black; background-color: #5fa6d1\">&nbsp.&nbsp</span>"
      ],
      "text/plain": [
       "<IPython.core.display.HTML object>"
      ]
     },
     "metadata": {},
     "output_type": "display_data"
    },
    {
     "data": {
      "text/html": [
       "<span class=\"barcode\"; style=\"color: black; background-color: #bcd7eb\">&nbspthe&nbsp</span> <span class=\"barcode\"; style=\"color: black; background-color: #3282be\">&nbspgroup&nbsp</span> <span class=\"barcode\"; style=\"color: black; background-color: #7db8da\">&nbspof&nbsp</span> <span class=\"barcode\"; style=\"color: black; background-color: #2070b4\">&nbspmen&nbsp</span> <span class=\"barcode\"; style=\"color: black; background-color: #4997c9\">&nbspare&nbsp</span> <span class=\"barcode\"; style=\"color: black; background-color: #95c5df\">&nbsprunning&nbsp</span> <span class=\"barcode\"; style=\"color: black; background-color: #69add5\">&nbsparound&nbsp</span> <span class=\"barcode\"; style=\"color: black; background-color: #d3e3f3\">&nbspthe&nbsp</span> <span class=\"barcode\"; style=\"color: black; background-color: #ddeaf7\">&nbspstreet&nbsp</span> <span class=\"barcode\"; style=\"color: black; background-color: #3383be\">&nbspin&nbsp</span> <span class=\"barcode\"; style=\"color: black; background-color: #bcd7eb\">&nbspdifferent&nbsp</span> <span class=\"barcode\"; style=\"color: black; background-color: #bed8ec\">&nbspdirections&nbsp</span> <span class=\"barcode\"; style=\"color: black; background-color: #b5d4e9\">&nbsp.&nbsp</span>"
      ],
      "text/plain": [
       "<IPython.core.display.HTML object>"
      ]
     },
     "metadata": {},
     "output_type": "display_data"
    },
    {
     "name": "stdout",
     "output_type": "stream",
     "text": [
      "\n",
      "Rank 24, true class 1\n"
     ]
    },
    {
     "data": {
      "text/html": [
       "<span class=\"barcode\"; style=\"color: black; background-color: #2070b4\">&nbsppeople&nbsp</span> <span class=\"barcode\"; style=\"color: black; background-color: #64a9d3\">&nbsplaying&nbsp</span> <span class=\"barcode\"; style=\"color: black; background-color: #97c6df\">&nbspin&nbsp</span> <span class=\"barcode\"; style=\"color: black; background-color: #5aa2cf\">&nbspmassage&nbsp</span> <span class=\"barcode\"; style=\"color: black; background-color: #a3cce3\">&nbspchairs&nbsp</span>"
      ],
      "text/plain": [
       "<IPython.core.display.HTML object>"
      ]
     },
     "metadata": {},
     "output_type": "display_data"
    },
    {
     "data": {
      "text/html": [
       "<span class=\"barcode\"; style=\"color: black; background-color: #3a8ac2\">&nbspwomen&nbsp</span> <span class=\"barcode\"; style=\"color: black; background-color: #56a0ce\">&nbspdoing&nbsp</span> <span class=\"barcode\"; style=\"color: black; background-color: #2070b4\">&nbspjumping&nbsp</span> <span class=\"barcode\"; style=\"color: black; background-color: #81badb\">&nbspjacks&nbsp</span> <span class=\"barcode\"; style=\"color: black; background-color: #a0cbe2\">&nbsp.&nbsp</span>"
      ],
      "text/plain": [
       "<IPython.core.display.HTML object>"
      ]
     },
     "metadata": {},
     "output_type": "display_data"
    },
    {
     "name": "stdout",
     "output_type": "stream",
     "text": [
      "\n"
     ]
    }
   ],
   "source": [
    "for i in [1, 2, 8, 24]:\n",
    "    print('Rank {:}, true class {:}'.format(i, best_worst_losses['best'][i][3]))\n",
    "    display(text_highlighter(best_worst_losses['best'][i][1], max_pool_propensity(premise_texts[i], maxpool)[0]))\n",
    "    display(text_highlighter(best_worst_losses['best'][i][2], max_pool_propensity(hypothesis_texts[i], maxpool)[0]))\n",
    "    print('')"
   ]
  },
  {
   "cell_type": "markdown",
   "metadata": {},
   "source": [
    "The best classifications are actually quite boring, with the model perfectly picking up on 'Contradiction'. These sentences have subjects that tend to agree or occur as antonyms. Beyond these, the verbs tend to disagree, and the model correctly picks up on disagreement between the sentences."
   ]
  },
  {
   "cell_type": "markdown",
   "metadata": {},
   "source": [
    "## Word-level Linguistic Preferences of InferSent\n",
    "Some additional analysis using the maxpool selection propensity quantity (again, over random selection to be comparable between sentences), linked to Spacy's linguistic classes. This gives an indication for what the model likes and dislikes when it comes to individual words. This has been done for all of the hypotheses and premises in the validation and test sets.\n",
    "\n",
    "Boxplot gives the distribution (whiskers go to 10th and 90th percentiles, boxes go to 25th and 75th, and line gives 50th/median). The little diamonds give the mean score. Rows (vertical) are the individual Spacy linguistic categories.\n",
    "\n",
    "Coarse grained POS tags:"
   ]
  },
  {
   "cell_type": "code",
   "execution_count": 24,
   "metadata": {},
   "outputs": [
    {
     "data": {
      "image/png": "[encoded data removed]",
      "text/plain": [
       "<Figure size 1440x360 with 1 Axes>"
      ]
     },
     "metadata": {
      "needs_background": "light"
     },
     "output_type": "display_data"
    }
   ],
   "source": [
    "from evaluation.visualization import linguistic_properties_printer\n",
    "\n",
    "linguistic_properties_printer(3, 'pos', figsize=(20, 5))"
   ]
  },
  {
   "cell_type": "markdown",
   "metadata": {},
   "source": [
    "Preference for verbs, especially auxilliary verbs. Beyond these, adjectives and coordinating conjunctions, before plateauing."
   ]
  },
  {
   "cell_type": "markdown",
   "metadata": {},
   "source": [
    "Fine graind (Penn treebank, https://universaldependencies.org/tagset-conversion/en-penn-uposf.html) UPOS tags:"
   ]
  },
  {
   "cell_type": "code",
   "execution_count": 25,
   "metadata": {},
   "outputs": [
    {
     "data": {
      "image/png": "[encoded data removed]",
      "text/plain": [
       "<Figure size 1440x720 with 1 Axes>"
      ]
     },
     "metadata": {
      "needs_background": "light"
     },
     "output_type": "display_data"
    }
   ],
   "source": [
    "linguistic_properties_printer(3, 'tag', figsize=(20, 10))"
   ]
  },
  {
   "cell_type": "markdown",
   "metadata": {},
   "source": [
    "Same as above, strong preference for verbs of all forms. Interestingly, the punctuation that can function as conjuctions ('-' and ',') also score very high. In contrast, all other punctuation scores very low."
   ]
  },
  {
   "cell_type": "markdown",
   "metadata": {},
   "source": [
    "Dependency relationships of the words (UD, https://universaldependencies.org/docs/en/dep/):"
   ]
  },
  {
   "cell_type": "code",
   "execution_count": 26,
   "metadata": {},
   "outputs": [
    {
     "data": {
      "image/png": "[encoded data removed]",
      "text/plain": [
       "<Figure size 1440x720 with 1 Axes>"
      ]
     },
     "metadata": {
      "needs_background": "light"
     },
     "output_type": "display_data"
    }
   ],
   "source": [
    "linguistic_properties_printer(3, 'dep', figsize=(20, 10))"
   ]
  },
  {
   "cell_type": "markdown",
   "metadata": {},
   "source": [
    "Again auxilliary phrases tend to score high. However, ROOT tends to score high as well, showing some incorporation of the semantic head of a sentence. Beyond these, the 'appos' and 'acl' modifiers score high as well, showing the model picks up on relevant clauses that reference back to important quantities. Lastly, the means of the 'neg' and 'attr' properties indicate that these properties sometimes are important to the model, but not always (low medians). These are again important semantic markers."
   ]
  },
  {
   "cell_type": "markdown",
   "metadata": {},
   "source": [
    "Whether or not the word is in an entity phrase (not really interesting, or significant):"
   ]
  },
  {
   "cell_type": "code",
   "execution_count": 27,
   "metadata": {},
   "outputs": [
    {
     "data": {
      "image/png": "[encoded data removed]",
      "text/plain": [
       "<Figure size 1440x144 with 1 Axes>"
      ]
     },
     "metadata": {
      "needs_background": "light"
     },
     "output_type": "display_data"
    }
   ],
   "source": [
    "linguistic_properties_printer(3, 'iob', figsize=(20, 2))"
   ]
  },
  {
   "cell_type": "markdown",
   "metadata": {},
   "source": [
    "No big difference here."
   ]
  },
  {
   "cell_type": "markdown",
   "metadata": {},
   "source": [
    "# Short Summary\n",
    "\n",
    "This project sees 4 different models implemented for generating general-purpose sentence embeddings. The first simply leverages word embeddings to create an averaged embedding over a sequence of words. While simple (hence a baseline), and achieving poor performance on the main task, it proves to be a formidable opponent when it comes to the semantic transfer and probing tasks in SentEval. \n",
    "\n",
    "Models 2 and 3 are uni- and bidirectional LSTMs. Here the sentence embeddings come from the final hidden state, theoretically containing all information within a sentence after having processed it in their entirety. While performance on the main task proved adequate, unlike the baseline model, performance took a nosedive when being applied to new domains. Personally, I believe these models to be too strong for task-specific prediction to function as general sentence embedders. The initial training passes gradients through to the LSTMs, allowing it to learn to 'forget' or 'incorporate' aspects of the sentence, relevant to the final task. The final state is then highly succesful for predicting SNLI labels, but likely has neglected considerable amounts of other information.\n",
    "\n",
    "The final model, BiLSTM \\w maxpooling or InferSent, wins on virtually all tasks. When compared to the LSTM architectures, its performance on SNLI is slightly better, but when extending to SentEval tasks, it becomes abudantly clear that the InferSent embeddings contain far more general information relevant for semantic processing. One possible explanation can be found in the training curves: maxpooling induces much faster traing, likely due to 'residual' connections between the entire sequence and final prediction. Not only is accuracy immediately much higher, the loss also plateaus faster, indicating rapid convergence to (local) minima. Another explanation might be that maxpooling forces concrete decisions of the model as to which semantic properties to keep and which to discard, whereas the other models are allowed to be more ambiguous towards sentence representations \\[1].\n",
    "\n",
    "Yet, when futher analysing InferSent, its performance becomes less impressive. For example, on the probing tasks, while it retains strong performance, this is primarily on the lower levels of the linguistic pyramid. When considering high-level semantic tasks, it falls back to accuracies scarily close to those of the baseline model. While this testifies to the strength of word embeddings, one would expect much better for such a (relatively) large model. \n",
    "\n",
    "Error analysis, and analysis of the linguistic features of the word-level maxpooling propensity, give some hints as to the limitations of InferSent (trained for NLI). English, and the SNLI sentences, tends to be a very Subject-Verb-Object language, and it seems InferSent picks up on this. Its primary feature seems to be find verbs, or other connecting structures, between clauses in a sentence, and compare the premise and hypothesis on how well these overlap (this is an overgeneralization). Sentences where the verbs are not overlapping, or where these refer to different antecedents, are overrepresented in the missclassifications. In other words, InferSent or perhaps SNLI, is lazy; it learns to check whether clauses between sentences agree or disagree, but not the actual semantic content of those sentences.\n",
    "\n",
    "An interesting perspective on all of this is provided by other researchers at Facebook AI \\[3]. They show that a random model, although ones that retain the inductive bias, on top of word embeddings already perform at or even above InferSent on \n",
    "the majority of SentEval tasks. Crucially, the hidden dimension has the biggest impact on classification performance. Thus, when one wants to build a sentence embedder, but is in doubt, taking word representations and projecting to a high-dimensional space (e.g. 4096), seems to be a very good place to start."
   ]
  },
  {
   "cell_type": "markdown",
   "metadata": {},
   "source": [
    "Just under 1 page."
   ]
  },
  {
   "cell_type": "markdown",
   "metadata": {},
   "source": [
    "# References\n",
    "\\[1] Conneau, A., Kiela, D., Schwenk, H., Barrault, L., & Bordes, A. (2017). Supervised learning of universal sentence representations from natural language inference data. arXiv preprint arXiv:1705.02364.\n",
    "\n",
    "\\[2] Conneau, A., Kruszewski, G., Lample, G., Barrault, L., & Baroni, M. (2018). What you can cram into a single vector: Probing sentence embeddings for linguistic properties. arXiv preprint arXiv:1805.01070.\n",
    "\n",
    "\\[3] Wieting, J., & Kiela, D. (2019). No training required: Exploring random encoders for sentence classification. arXiv preprint arXiv:1901.10444."
   ]
  }
 ],
 "metadata": {
  "kernelspec": {
   "display_name": "Python 3",
   "language": "python",
   "name": "python3"
  },
  "language_info": {
   "codemirror_mode": {
    "name": "ipython",
    "version": 3
   },
   "file_extension": ".py",
   "mimetype": "text/x-python",
   "name": "python",
   "nbconvert_exporter": "python",
   "pygments_lexer": "ipython3",
   "version": "3.8.8"
  }
 },
 "nbformat": 4,
 "nbformat_minor": 2
}
